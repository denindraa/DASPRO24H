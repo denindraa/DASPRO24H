{
 "cells": [
  {
   "cell_type": "markdown",
   "id": "b24bb91c-cb83-4c21-8c5f-6936ec77192d",
   "metadata": {},
   "source": [
    "1. OPERATOR ARITMATIKA"
   ]
  },
  {
   "cell_type": "code",
   "execution_count": 6,
   "id": "d00044b6-a6e5-4d1b-b535-7e78589f7b00",
   "metadata": {},
   "outputs": [
    {
     "name": "stdin",
     "output_type": "stream",
     "text": [
      "Masukan Jumlah Apel Budi: 12\n",
      "Masukan Teman Budi: 4\n"
     ]
    },
    {
     "name": "stdout",
     "output_type": "stream",
     "text": [
      "Apel Yang Diterima Teman Budi Sebanyak= 3\n"
     ]
    },
    {
     "name": "stdin",
     "output_type": "stream",
     "text": [
      "Masukan Tambahan Apel: 8\n",
      "Masukan Jumlah Apel Diterima Teman Budi: 3\n"
     ]
    },
    {
     "name": "stdout",
     "output_type": "stream",
     "text": [
      "Jadi jumlah Apel Yang Diterima Teman Budi dan Apel Tambahan Sebanyak= 11\n"
     ]
    }
   ],
   "source": [
    "apelBudi = int(input(\"Masukan Jumlah Apel Budi:\"))\n",
    "temanBudi = int(input(\"Masukan Teman Budi:\"))\n",
    "apelDiterima = int(apelBudi / temanBudi)\n",
    "print(\"Apel Yang Diterima Teman Budi Sebanyak=\",apelDiterima)\n",
    "\n",
    "\n",
    "tambahanApel = int(input(\"Masukan Tambahan Apel:\"))\n",
    "apelDiterima = int(input(\"Masukan Jumlah Apel Diterima Teman Budi:\"))\n",
    "jumlahApel = int(apelDiterima + tambahanApel)\n",
    "print(\"Jadi jumlah Apel Yang Diterima Teman Budi dan Apel Tambahan Sebanyak=\",jumlahApel)"
   ]
  },
  {
   "cell_type": "markdown",
   "id": "4da2e964-570d-4bb4-80ac-a7472a294cec",
   "metadata": {},
   "source": [
    "2. OPERATOR OPERATOR PERBANDINGAN"
   ]
  },
  {
   "cell_type": "code",
   "execution_count": 13,
   "id": "08c73a31-e2af-4f4b-b86e-d3801132b4ea",
   "metadata": {},
   "outputs": [
    {
     "name": "stdin",
     "output_type": "stream",
     "text": [
      "Masukan Tinggi Siti: 160\n",
      "Masukan Tinggi Andi: 165\n"
     ]
    },
    {
     "name": "stdout",
     "output_type": "stream",
     "text": [
      "Apakah Siti Lebih Tinggi dari Andi= False\n"
     ]
    }
   ],
   "source": [
    "Siti = int(input(\"Masukan Tinggi Siti:\")) \n",
    "Andi = int(input(\"Masukan Tinggi Andi:\"))\n",
    "lebihTinggi = Siti > Andi\n",
    "\n",
    "print(\"Apakah Siti Lebih Tinggi dari Andi=\", lebihTinggi)\n"
   ]
  },
  {
   "cell_type": "markdown",
   "id": "8fbb58b7-3c7f-444e-84b0-b162602771e6",
   "metadata": {},
   "source": [
    "3. OPERATOR LOGIKA"
   ]
  },
  {
   "cell_type": "code",
   "execution_count": 22,
   "id": "ae2ad6f9-f3b1-4c47-bdbf-1113814f9310",
   "metadata": {},
   "outputs": [
    {
     "name": "stdout",
     "output_type": "stream",
     "text": [
      "Budi Tidak Bisa Bermain Diluar\n"
     ]
    }
   ],
   "source": [
    "JikaCuacaCerah = True\n",
    "JikaPrSelesai = False\n",
    "\n",
    "BudiBisaBermain = JikaCuacaCerah and JikaPrSelesai\n",
    "if BudiBisaBermain:\n",
    "    print(\"Budi Bisa Bermain Diluar\")\n",
    "else:\n",
    "    print(\"Budi Tidak Bisa Bermain Diluar\")"
   ]
  },
  {
   "cell_type": "markdown",
   "id": "18cf3323-61c5-45a6-8383-1709cab5149b",
   "metadata": {},
   "source": [
    "4. OPERATOR BITWISE"
   ]
  },
  {
   "cell_type": "code",
   "execution_count": 26,
   "id": "fcc1120d-3ad7-4d59-bd13-2519ca6ea5b0",
   "metadata": {},
   "outputs": [
    {
     "name": "stdin",
     "output_type": "stream",
     "text": [
      "Isikan biangan 1: 6\n",
      "Isikan biangan 2: 3\n"
     ]
    },
    {
     "name": "stdout",
     "output_type": "stream",
     "text": [
      "0b110\n",
      "0b11\n",
      "----------&\n",
      "0b10 = 2\n",
      "0b110\n",
      "0b11\n",
      "----------|\n",
      "0b111 = 7\n",
      "0b110\n",
      "0b11\n",
      "----------^\n",
      "0b101 = 5\n"
     ]
    }
   ],
   "source": [
    "angka1 = int(input(\"Isikan biangan 1:\"))\n",
    "angka2 = int(input(\"Isikan biangan 2:\"))\n",
    "\n",
    "print(bin(angka1))\n",
    "print(bin(angka2))\n",
    "print(\"----------&\")\n",
    "print(bin(angka1 & angka2),\"=\",angka1 & angka2)\n",
    "\n",
    "print(bin(angka1))\n",
    "print(bin(angka2))\n",
    "print(\"----------|\")\n",
    "print(bin(angka1 | angka2),\"=\",angka1 | angka2) \n",
    "\n",
    "print(bin(angka1))\n",
    "print(bin(angka2))\n",
    "print(\"----------^\")\n",
    "print(bin(angka1 ^ angka2),\"=\",angka1 ^ angka2)\n"
   ]
  },
  {
   "cell_type": "markdown",
   "id": "dade65bf-20dc-4027-aa69-e18d1bd21ddb",
   "metadata": {},
   "source": [
    "5. OPERATOR PENUGASAAN"
   ]
  },
  {
   "cell_type": "code",
   "execution_count": 29,
   "id": "ad1c98c1-81cf-41fb-bc96-4183bbfa3cfc",
   "metadata": {},
   "outputs": [
    {
     "name": "stdin",
     "output_type": "stream",
     "text": [
      "Isikan Saldo Awal: 50000\n",
      "Isikan Isi Ulang : 20000\n",
      "Membeli Paket: 30000\n"
     ]
    },
    {
     "name": "stdout",
     "output_type": "stream",
     "text": [
      "40000\n"
     ]
    }
   ],
   "source": [
    "saldoAwal = int(input(\"Isikan Saldo Awal:\"))\n",
    "isiUlang = int(input(\"Isikan Isi Ulang :\"))\n",
    "membeliPaket = int(input(\"Membeli Paket:\"))\n",
    "totalSaldo = saldoAwal + isiUlang - membeliPaket\n",
    "print(totalSaldo)\n"
   ]
  },
  {
   "cell_type": "markdown",
   "id": "2e56c016-29f9-4365-a35a-6581bd80abb6",
   "metadata": {},
   "source": [
    "6. OPERATOR KEANGGOTAAN"
   ]
  },
  {
   "cell_type": "code",
   "execution_count": 32,
   "id": "1a54ea33-9949-42d4-94f5-bf928b8d3c74",
   "metadata": {},
   "outputs": [
    {
     "name": "stdout",
     "output_type": "stream",
     "text": [
      "True\n",
      "False\n",
      "True\n"
     ]
    }
   ],
   "source": [
    "pesertaCoding = [\"Andi\",\"Budi\",\"Citra\",\"Dewi\"]\n",
    "print (\"Eka\" not in pesertaCoding)\n",
    "print (\"Eka\" in pesertaCoding)\n",
    "\n",
    "kalimat = \"saya suka belajar python\"\n",
    "print (\"python\" in kalimat)"
   ]
  },
  {
   "cell_type": "markdown",
   "id": "cfa3f347-9e0b-4907-b416-a85897b8ae6f",
   "metadata": {},
   "source": [
    "7. OPEARATOR IDENTITAS"
   ]
  },
  {
   "cell_type": "code",
   "execution_count": 35,
   "id": "566b5f12-fd63-4f7b-88d2-7a818aa9c46e",
   "metadata": {},
   "outputs": [
    {
     "name": "stdout",
     "output_type": "stream",
     "text": [
      "True\n",
      "False\n"
     ]
    }
   ],
   "source": [
    "x = 20\n",
    "y = 20\n",
    "a = x is y\n",
    "print(a)\n",
    "\n",
    "list1 = [15,16,17,18,19,20]\n",
    "list2 = [15,16,17,18,19,20]\n",
    "a = list1 is list2\n",
    "print(a)"
   ]
  },
  {
   "cell_type": "markdown",
   "id": "5d3935b8-8fa2-463c-9cfc-01795c8a4464",
   "metadata": {},
   "source": [
    "8. OPERATOR TERNARY"
   ]
  },
  {
   "cell_type": "code",
   "execution_count": 44,
   "id": "2f7293ab-d809-4b36-8caa-ff828c8c60a8",
   "metadata": {},
   "outputs": [
    {
     "name": "stdin",
     "output_type": "stream",
     "text": [
      "Masukkan angka:  190\n"
     ]
    },
    {
     "name": "stdout",
     "output_type": "stream",
     "text": [
      "Lebih Besar Dari 100\n"
     ]
    }
   ],
   "source": [
    "angka = int(input(\"Masukkan angka: \"))\n",
    "hasil = \"Lebih Besar Dari 100\" if angka > 100 else \"Lebih Kecil Dari 100\"\n",
    "print(hasil)"
   ]
  },
  {
   "cell_type": "code",
   "execution_count": 15,
   "id": "c78736bf-1f28-4bfe-a178-4ede0a81bf30",
   "metadata": {},
   "outputs": [
    {
     "name": "stdin",
     "output_type": "stream",
     "text": [
      "Masukan Nilai:  60\n"
     ]
    },
    {
     "name": "stdout",
     "output_type": "stream",
     "text": [
      "Tidak Lulus\n"
     ]
    }
   ],
   "source": [
    "nilai = int(input(\"Masukan Nilai: \"))\n",
    "nilaiKKM = 75\n",
    "status = \"Lulus\" if nilai >= nilaiKKM else \"Tidak Lulus\"\n",
    "print(status)"
   ]
  }
 ],
 "metadata": {
  "kernelspec": {
   "display_name": "Python [conda env:base] *",
   "language": "python",
   "name": "conda-base-py"
  },
  "language_info": {
   "codemirror_mode": {
    "name": "ipython",
    "version": 3
   },
   "file_extension": ".py",
   "mimetype": "text/x-python",
   "name": "python",
   "nbconvert_exporter": "python",
   "pygments_lexer": "ipython3",
   "version": "3.12.7"
  }
 },
 "nbformat": 4,
 "nbformat_minor": 5
}
