{
 "cells": [
  {
   "cell_type": "code",
   "execution_count": null,
   "id": "6e39f2a7-2201-4eff-9e6d-43e8c52c83c2",
   "metadata": {},
   "outputs": [],
   "source": []
  }
 ],
 "metadata": {
  "kernelspec": {
   "display_name": "",
   "name": ""
  },
  "language_info": {
   "name": ""
  }
 },
 "nbformat": 4,
 "nbformat_minor": 5
}
