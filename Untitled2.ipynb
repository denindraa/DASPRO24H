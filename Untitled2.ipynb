{
 "cells": [
  {
   "cell_type": "code",
   "execution_count": null,
   "id": "79c58db3-ff97-4a35-9f3e-90c61aef311f",
   "metadata": {},
   "outputs": [],
   "source": [
    "data_siswa = {}\n",
    "\n",
    "def tambah_data():\n",
    "    try:\n",
    "        nim = input(\"Masukkan NIM (11 karakter): \")\n",
    "        if len(nim) != 11:\n",
    "            raise ValueError(\"NIM harus 11 karakter!\")\n",
    "\n",
    "        nama = input(\"Masukkan Nama (min 3 karakter): \")\n",
    "        if len(nama) < 3:\n",
    "            raise ValueError(\"Nama terlalu pendek!\")\n",
    "\n",
    "        alamat = input(\"Masukkan Alamat (min 5 karakter): \")\n",
    "        if len(alamat) < 5:\n",
    "            raise ValueError(\"Alamat terlalu pendek!\")\n",
    "\n",
    "        data_siswa[nim] = {'nama': nama, 'alamat': alamat}\n",
    "        print(\"Data berhasil ditambahkan.\\n\")\n",
    "\n"
   ]
  }
 ],
 "metadata": {
  "kernelspec": {
   "display_name": "Python [conda env:base] *",
   "language": "python",
   "name": "conda-base-py"
  },
  "language_info": {
   "codemirror_mode": {
    "name": "ipython",
    "version": 3
   },
   "file_extension": ".py",
   "mimetype": "text/x-python",
   "name": "python",
   "nbconvert_exporter": "python",
   "pygments_lexer": "ipython3",
   "version": "3.12.7"
  }
 },
 "nbformat": 4,
 "nbformat_minor": 5
}
