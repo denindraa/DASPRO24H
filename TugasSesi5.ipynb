{
 "cells": [
  {
   "cell_type": "code",
   "execution_count": 162,
   "id": "76d8d21b-96fb-4aeb-b585-d9848f368f92",
   "metadata": {},
   "outputs": [
    {
     "name": "stdin",
     "output_type": "stream",
     "text": [
      "Masukkan nama Anda:  Muhammad Denindra Pratama\n",
      "Maskan nim Anda: 20240040290\n",
      "Masukkan umur Anda:  20 tahun\n",
      "Masukkan universitas Anda:  Nusa Putra Sukabumi\n",
      "Masukkan jurusan Anda:  Teknik Informatika\n"
     ]
    },
    {
     "name": "stdout",
     "output_type": "stream",
     "text": [
      "\n",
      "===== BIODATA =====\n",
      "Nama: Muhammad Denindra Pratama\n",
      "Nim: 20240040290\n",
      "Umur: 20 tahun tahun\n",
      "Universitas: Nusa Putra Sukabumi\n",
      "Jurusan: Teknik Informatika\n"
     ]
    }
   ],
   "source": [
    "nama = input(\"Masukkan nama Anda: \")\n",
    "nim = input(\"Maskan nim Anda:\")\n",
    "umur = input(\"Masukkan umur Anda: \")\n",
    "universitas = input(\"Masukkan universitas Anda: \")\n",
    "jurusan = input(\"Masukkan jurusan Anda: \")\n",
    "print(\"\\n===== BIODATA =====\")\n",
    "print(\"Nama: {}\".format(nama))\n",
    "print(\"Nim: {}\".format(nim))\n",
    "print(\"Umur: {} tahun\".format(umur))\n",
    "print(\"Universitas: {}\".format(universitas))\n",
    "print(\"Jurusan: {}\".format(jurusan))"
   ]
  },
  {
   "cell_type": "code",
   "execution_count": null,
   "id": "d319e7f6-6995-443a-ba5b-9ebc35301431",
   "metadata": {},
   "outputs": [],
   "source": [
    "#UNIVERSITAS NUSA PUTRA SUKABUMI\n",
    "teks = input(\"Isikan Kalimat:\")\n",
    "kata = teks.split()\n",
    "\n",
    "# a. putra nusa\n",
    "output_a = \"{} {}\".format(kata[2].lower(), kata[1].lower())\n",
    "print(\"a.\", output_a)\n",
    "# b. NIVERSITAS NSA PTRA SKABMI\n",
    "output_b = \"{} {} {} {} {} {} {}\".format(teks[1:11], teks[12],teks[14:16], teks[17],teks[19:22], teks[23],teks[25:29])\n",
    "print(\"b.\", output_b)\n",
    "# c. SUKABUMI PUTRA NUSA UNIVERSITAS\n",
    "output_c = \"{} {} {} {}\".format(kata[3], kata[2], kata[1], kata[0])\n",
    "print(\"c.\", output_c)\n",
    "# d. UNPS\n",
    "output_d = \"{}{}{}{}\".format(teks[0], teks[12], teks[17], teks[23])\n",
    "print(\"d.\", output_d)\n",
    "# e. TAS SAPU BUMI\n",
    "output_e = \"{} {} {}\".format(teks[8:11], teks[14:19], teks[27:])\n",
    "print(\"e.\", output_e)"
   ]
  }
 ],
 "metadata": {
  "kernelspec": {
   "display_name": "Python [conda env:base] *",
   "language": "python",
   "name": "conda-base-py"
  },
  "language_info": {
   "codemirror_mode": {
    "name": "ipython",
    "version": 3
   },
   "file_extension": ".py",
   "mimetype": "text/x-python",
   "name": "python",
   "nbconvert_exporter": "python",
   "pygments_lexer": "ipython3",
   "version": "3.12.7"
  }
 },
 "nbformat": 4,
 "nbformat_minor": 5
}
