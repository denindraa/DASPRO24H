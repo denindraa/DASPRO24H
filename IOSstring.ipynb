{
 "cells": [
  {
   "cell_type": "code",
   "execution_count": 11,
   "id": "525473ea-2cff-4917-a1d1-b582cba5fe1c",
   "metadata": {},
   "outputs": [
    {
     "name": "stdin",
     "output_type": "stream",
     "text": [
      "Isikan Nama Anda: jashka\n"
     ]
    },
    {
     "name": "stdout",
     "output_type": "stream",
     "text": [
      "Selamat datang jashka\n",
      "ini adalah urutan angka :\n",
      "123\n",
      "A-B-C\n"
     ]
    }
   ],
   "source": [
    "name = input(\"Isikan Nama Anda:\")\n",
    "\n",
    "print(\"Selamat datang\", name)\n",
    "print(\"ini adalah urutan angka :\")\n",
    "print(\"1\", end='')\n",
    "print(\"2\", end='')\n",
    "print(\"3\")\n",
    "print(\"A\",\"B\",\"C\",sep='-')"
   ]
  },
  {
   "cell_type": "markdown",
   "id": "7cc33a01-ae65-48ac-b332-f038e93e12c4",
   "metadata": {},
   "source": [
    "<h1>STRING FORMAT</h1>"
   ]
  },
  {
   "cell_type": "code",
   "execution_count": 22,
   "id": "373c38f9-8bc7-4dfe-b5af-ad82e41419ab",
   "metadata": {},
   "outputs": [
    {
     "name": "stdin",
     "output_type": "stream",
     "text": [
      "Isikan Bilangan 1: 12\n",
      "Isikan Bilangan 2: 11\n"
     ]
    },
    {
     "name": "stdout",
     "output_type": "stream",
     "text": [
      "Hasil Penjumlahan 12 + 11 = 23\n",
      "Hasil Penjumlahan 12 + 11 =23\n"
     ]
    }
   ],
   "source": [
    "val1 = int(input(\"Isikan Bilangan 1:\"))\n",
    "val2 = int(input(\"Isikan Bilangan 2:\"))\n",
    "\n",
    "print(\"Hasil Penjumlahan\",val1,\"+\",val2,\"=\",val1+val2)\n",
    "print(\"Hasil Penjumlahan {} + {} ={}\".format(val1,val2,val1+val2))"
   ]
  },
  {
   "cell_type": "markdown",
   "id": "15fe5616-e7b1-4d7d-a750-fd8b8f660afd",
   "metadata": {},
   "source": [
    "<h1>FORMAT INDEX </h1>"
   ]
  },
  {
   "cell_type": "code",
   "execution_count": 44,
   "id": "659e50ac-a19d-4acd-892a-866a552a5e37",
   "metadata": {},
   "outputs": [
    {
     "name": "stdin",
     "output_type": "stream",
     "text": [
      "Isikan Nama Awal : AKU \n",
      "Isikan Nama Tengah: ADALAH \n",
      "Isikan Nama Akhir: ULTRAMEN\n"
     ]
    },
    {
     "name": "stdout",
     "output_type": "stream",
     "text": [
      "Nama Lengkap: AKU  ADALAH  ULTRAMEN\n",
      "Nama Lengkap: ADALAH  AKU  ULTRAMEN\n",
      "Nama Lengkap: AKU  ADALAH  ULTRAMEN\n"
     ]
    }
   ],
   "source": [
    "fName = input(\"Isikan Nama Awal :\")\n",
    "mName = input(\"Isikan Nama Tengah:\")\n",
    "lName = input(\"Isikan Nama Akhir:\")\n",
    "print(\"Nama Lengkap: {} {} {}\".format(fName,mName,lName))\n",
    "\n",
    "print(\"Nama Lengkap: {1} {0} {2}\".format(fName,mName,lName))\n",
    "#menggunakan key variable\n",
    "print(\"Nama Lengkap: {f} {m} {l}\".format(f=fName,l=lName,m=mName))\n"
   ]
  },
  {
   "cell_type": "markdown",
   "id": "f9e335ae-d531-48f7-8b19-b0fd0c402422",
   "metadata": {},
   "source": [
    "<h1> MENGAMBIL KARAKTER PADA STRING </h1>"
   ]
  },
  {
   "cell_type": "code",
   "execution_count": 64,
   "id": "c0e17366-2de8-433d-a817-05bef6c6ed1b",
   "metadata": {},
   "outputs": [
    {
     "name": "stdin",
     "output_type": "stream",
     "text": [
      "Isikan Kalimat: aku adalah superman\n"
     ]
    },
    {
     "name": "stdout",
     "output_type": "stream",
     "text": [
      "Karakter Ke 2 Adalah: k\n",
      "Karakter Ke 3 dst: u adalah superman\n",
      "Karakter Ke 2-4 Adalah: ku \n",
      "Karakter Terakhir Adalah: n\n",
      "Kalimat dibalik menjadi: namrepus halada uka\n"
     ]
    }
   ],
   "source": [
    "kalimat = input(\"Isikan Kalimat:\")\n",
    "#mencetak karakter ke 2\n",
    "print(\"Karakter Ke 2 Adalah:\",kalimat[1])\n",
    "#mencetak karakter ke 2\n",
    "print(\"Karakter Ke 3 dst:\",kalimat[2:])\n",
    "#mencetak karakter ke 2 sampai ke 4\n",
    "print(\"Karakter Ke 2-4 Adalah:\",kalimat [1:4])\n",
    "#mencetak karakter paling akhir\n",
    "print(\"Karakter Terakhir Adalah:\",kalimat[-1])\n",
    "#Reverse\n",
    "print(\"Kalimat dibalik menjadi:\",kalimat[::-1])"
   ]
  },
  {
   "cell_type": "markdown",
   "id": "7edfeec9-d1cf-4487-b2e6-1a247f985aa1",
   "metadata": {},
   "source": [
    "<h1>FUNGSI STRING</h1>"
   ]
  },
  {
   "cell_type": "code",
   "execution_count": 81,
   "id": "dfb59776-0682-451e-8dbd-c5e89c30c600",
   "metadata": {},
   "outputs": [
    {
     "name": "stdout",
     "output_type": "stream",
     "text": [
      "Nama Awal: Muhammad\n",
      "Nama Akhir: Denindra\n",
      "Gelar : S.Kom\n",
      "9\n"
     ]
    }
   ],
   "source": [
    "namaLengkap = \"Muhammad Denindra S.Kom\"\n",
    "nama = namaLengkap.split(' ')\n",
    "print(\"Nama Awal:\",nama[0]) \n",
    "print(\"Nama Akhir:\",nama[1]) \n",
    "print(\"Gelar :\", nama[2])\n",
    "\n",
    "#Fungsi find\n",
    "#Untuk mengembalikan indeks dari posisi karakter yang dicari jika ketemu!\n",
    "#Jika tidak akan menghasilkan -1\n",
    "nomorPlat = \"F29393924EW\"\n",
    "cari = nomorPlat.find(\"E\")\n",
    "print(cari)\n",
    "\n",
    "#Buatlah program untuk memvalidasi email valid atau tidak\n",
    "#Valid -> mempunyai @ sama . => adi@gmail.com\n",
    "#adi.nu@gmail.com => tidak valid\n",
    "#posisi @ disebelah kiri dari posisi .\n"
   ]
  },
  {
   "cell_type": "code",
   "execution_count": 103,
   "id": "be2b67ed-d905-4454-80c6-21b881df68aa",
   "metadata": {},
   "outputs": [
    {
     "name": "stdin",
     "output_type": "stream",
     "text": [
      "Isikan email anda adi.nu@gamil.com\n"
     ]
    },
    {
     "name": "stdout",
     "output_type": "stream",
     "text": [
      "3 9\n",
      "Not A Valid Email\n"
     ]
    }
   ],
   "source": [
    "email = input(\"Isikan email anda\")\n",
    "findAt = email.find(\"@\")\n",
    "findPeriod = email.find(\".\")\n",
    "print(cariAt,cariPeriod)\n",
    "\n",
    "validation = \"A Valid Email\" if findAt != -1 and findPeriod != -1 and findAt < findPeriod else \"Not A Valid Email\"\n",
    "print(validation)\n",
    "\n"
   ]
  },
  {
   "cell_type": "code",
   "execution_count": 107,
   "id": "3161f708-8f41-48d2-881e-bbe13461254c",
   "metadata": {},
   "outputs": [
    {
     "name": "stdin",
     "output_type": "stream",
     "text": [
      "input a number 1234\n"
     ]
    },
    {
     "name": "stdout",
     "output_type": "stream",
     "text": [
      "The result of 1234 - 10 = 1224\n"
     ]
    }
   ],
   "source": [
    "number = input(\"input a number\")\n",
    "sum = int(number[0]) + int(number[1]) + int(number[2]) + int(number[3])\n",
    "result = int(number) - sum\n",
    "print(\"The result of {} - {} = {}\".format(number, sum, result))\n"
   ]
  },
  {
   "cell_type": "code",
   "execution_count": 159,
   "id": "8e554d5f-a1c6-446e-b3ee-fc3395dac211",
   "metadata": {},
   "outputs": [
    {
     "name": "stdout",
     "output_type": "stream",
     "text": [
      "Nilai Acak Pecahan:0.11587721342777924\n",
      "Nilai Acak antar 0-100:8\n",
      "sekarang bulan:Oct\n",
      "sekarang hari:['Sat', '6']\n",
      "berapakah hasil 26+98?\n"
     ]
    },
    {
     "name": "stdin",
     "output_type": "stream",
     "text": [
      "Isikan Jawaban Anda: 90\n"
     ]
    },
    {
     "name": "stdout",
     "output_type": "stream",
     "text": [
      "Anda Salah!\n"
     ]
    }
   ],
   "source": [
    "#Fungsi string random bilangan\n",
    "from random import random\n",
    "nilai = random()\n",
    "#Fstring\n",
    "print(f\"Nilai Acak Pecahan:{nilai}\")\n",
    "\n",
    "from random import randint\n",
    "intNilai = randint(0,100)\n",
    "print(f\"Nilai Acak antar 0-100:{intNilai}\")\n",
    "\n",
    "from random import choice\n",
    "month = [\"Jan\",\"Feb\",\"Mar\",\"Apr\",\"Mei\",\"Jun\",\"Jul\",\"Aug\",\"Sep\",\"Oct\",\"Nov\",\"Des\"]\n",
    "day = [[\"Mon\",\"1\"], [\"Tue\", \"2\"] , [\"Wed\",\"3\"], [\"Thu\",\"4\"], [\"Fri\",\"5\"], [\"Sat\",\"6\"]]\n",
    "cDay = choice(day)\n",
    "cMonth = choice(month)\n",
    "print(f\"sekarang bulan:{cMonth}\")\n",
    "print(f\"sekarang hari:{cDay}\")\n",
    "nilai1 = randint(0,100)\n",
    "nilai2 = randint(0,100)\n",
    "print(f\"berapakah hasil {nilai1}+{nilai2}?\")\n",
    "answer = input(\"Isikan Jawaban Anda:\")\n",
    "check = \"Anda Benar!\" if nilai1 + nilai2 == answer else \"Anda Salah!\"\n",
    "print(check)"
   ]
  },
  {
   "cell_type": "code",
   "execution_count": 165,
   "id": "803c2590-31cd-4c29-ac86-c003e886a3fe",
   "metadata": {},
   "outputs": [
    {
     "name": "stdout",
     "output_type": "stream",
     "text": [
      "Apa arti dariEat?\n"
     ]
    },
    {
     "name": "stdin",
     "output_type": "stream",
     "text": [
      "isikan Jawaban: makan\n"
     ]
    },
    {
     "name": "stdout",
     "output_type": "stream",
     "text": [
      "Anda Benar !!\n"
     ]
    }
   ],
   "source": [
    "from random import choice\n",
    "kamus = [[\"Eat\",\"Makan\"],[\"Drink\",\"Minum\"],[\"Reading\",\"Membaca\"]]\n",
    "cKamus = choice(kamus)\n",
    "print(f\"Apa arti dari{cKamus[0]}?\")\n",
    "jawab = input(\"isikan Jawaban:\")\n",
    "check = \"Anda Benar !!\" if jawab.lower() == cKamus[1].lower() else \"Anda Salah!!\"\n",
    "print(check)"
   ]
  }
 ],
 "metadata": {
  "kernelspec": {
   "display_name": "Python [conda env:base] *",
   "language": "python",
   "name": "conda-base-py"
  },
  "language_info": {
   "codemirror_mode": {
    "name": "ipython",
    "version": 3
   },
   "file_extension": ".py",
   "mimetype": "text/x-python",
   "name": "python",
   "nbconvert_exporter": "python",
   "pygments_lexer": "ipython3",
   "version": "3.12.7"
  }
 },
 "nbformat": 4,
 "nbformat_minor": 5
}
