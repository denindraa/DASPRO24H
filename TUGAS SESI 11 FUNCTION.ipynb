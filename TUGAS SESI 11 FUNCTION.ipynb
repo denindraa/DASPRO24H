{
 "cells": [
  {
   "cell_type": "code",
   "execution_count": 3,
   "id": "91b2a019-0bb6-4f85-89c1-bb7fb5402852",
   "metadata": {},
   "outputs": [
    {
     "name": "stdout",
     "output_type": "stream",
     "text": [
      "UKA ATNIC UMAK\n",
      "PYTHON HARI BELAJAR SEDANG INI\n",
      "Ak|_| C1nt4 K4m|_|\n",
      "4ku Cinta Kamu\n"
     ]
    }
   ],
   "source": [
    "# Fungsi untuk membalik setiap kata dalam kalimat\n",
    "def reverse_per_kata(kalimat):\n",
    "    # Pisahkan kalimat menjadi list kata\n",
    "    kata_list = kalimat.split()\n",
    "    # Balik huruf dalam setiap kata dengan slicing [::-1]\n",
    "    dibalik = [kata[::-1] for kata in kata_list]\n",
    "    # Gabungkan kembali kata yang sudah dibalik menjadi satu kalimat\n",
    "    return ' '.join(dibalik)\n",
    "\n",
    "# Fungsi untuk mengurutkan ulang kata-kata sesuai indeks urutan (1-based)\n",
    "def urutkan_kalimat(kalimat, urutan):\n",
    "    # Pisahkan kalimat menjadi list kata\n",
    "    kata_list = kalimat.split()\n",
    "    # Ambil kata sesuai indeks dalam list urutan (dikurangi 1 karena index Python mulai dari 0)\n",
    "    hasil = [kata_list[i - 1] for i in urutan]\n",
    "    # Gabungkan kembali kata yang sudah diurutkan menjadi kalimat\n",
    "    return ' '.join(hasil)\n",
    "\n",
    "# Fungsi untuk mengganti huruf vokal dengan simbol tertentu\n",
    "def ganti_vokal(kalimat, opsi):\n",
    "    # Dictionary untuk mengganti huruf vokal kecil\n",
    "    vokal_kecil = {'a': '4', 'i': '1', 'u': '|_|', 'e': '3', 'o': '0'}\n",
    "    # Dictionary untuk mengganti huruf vokal besar\n",
    "    vokal_besar = {'A': '4', 'I': '1', 'U': '|_|', 'E': '3', 'O': '0'}\n",
    "\n",
    "    hasil = ''\n",
    "    # Telusuri setiap huruf dalam kalimat\n",
    "    for huruf in kalimat:\n",
    "        # Jika opsi = 1, ubah hanya vokal kecil\n",
    "        if opsi == 1 and huruf in vokal_kecil:\n",
    "            hasil += vokal_kecil[huruf]\n",
    "        # Jika opsi = 2, ubah hanya vokal kapital\n",
    "        elif opsi == 2 and huruf in vokal_besar:\n",
    "            hasil += vokal_besar[huruf]\n",
    "        # Jika bukan vokal sesuai opsi, tambahkan huruf asli\n",
    "        else:\n",
    "            hasil += huruf\n",
    "    return hasil\n",
    "\n",
    "\n",
    "print(reverse_per_kata(\"AKU CINTA KAMU\"))\n",
    "# Output: \"UKA ATNIC UMAK\"\n",
    "\n",
    "print(urutkan_kalimat(\"HARI INI SEDANG BELAJAR PYTHON\", [5, 1, 4, 3, 2]))\n",
    "# Output: \"PYTHON HARI BELAJAR SEDANG INI\"\n",
    "\n",
    "print(ganti_vokal(\"Aku Cinta Kamu\", 1))\n",
    "# Output: \"Ak|_| C1nt4 K4m|_|\"\n",
    "\n",
    "print(ganti_vokal(\"Aku Cinta Kamu\", 2))\n",
    "# Output: \"4ku Cinta Kamu\"\n"
   ]
  }
 ],
 "metadata": {
  "kernelspec": {
   "display_name": "Python [conda env:base] *",
   "language": "python",
   "name": "conda-base-py"
  },
  "language_info": {
   "codemirror_mode": {
    "name": "ipython",
    "version": 3
   },
   "file_extension": ".py",
   "mimetype": "text/x-python",
   "name": "python",
   "nbconvert_exporter": "python",
   "pygments_lexer": "ipython3",
   "version": "3.12.7"
  }
 },
 "nbformat": 4,
 "nbformat_minor": 5
}
