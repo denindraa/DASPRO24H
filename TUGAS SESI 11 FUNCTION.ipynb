{
 "cells": [
  {
   "cell_type": "code",
   "execution_count": 1,
   "id": "91b2a019-0bb6-4f85-89c1-bb7fb5402852",
   "metadata": {},
   "outputs": [
    {
     "name": "stdout",
     "output_type": "stream",
     "text": [
      "UKA ATNIC UMAK\n",
      "PYTHON HARI BELAJAR SEDANG INI\n",
      "Ak|_| C1nt4 K4m|_|\n",
      "4ku Cinta Kamu\n"
     ]
    }
   ],
   "source": [
    "#Tulis Fungsi Pertama: reverse_per_kata()\n",
    "#Tujuan: Membalik setiap kata, tapi tidak mengubah urutan kata.\n",
    "def reverse_per_kata(kalimat):\n",
    "    #Memecah kalimat jadi kata-kata\n",
    "    kata_list = kalimat.split()\n",
    "    #Membalik huruf dalam setiap kata\n",
    "    dibalik = [kata[::-1] for kata in kata_list]\n",
    "    #Menggabungkan kembali\n",
    "    return ' '.join(dibalik)\n",
    "\n",
    "#Tulis Fungsi Kedua: urutkan_kalimat()\n",
    "#ujuan: Menyusun ulang kata dalam kalimat sesuai indeks (1-based).\n",
    "def urutkan_kalimat(kalimat, urutan):\n",
    "    kata_list = kalimat.split()\n",
    "    hasil = [kata_list[i - 1] for i in urutan]\n",
    "    return ' '.join(hasil)\n",
    "\n",
    "#Tulis Fungsi Ketiga: ganti_vokal()\n",
    "#Tujuan: Mengganti vokal berdasarkan opsi (1 = huruf kecil, 2 = huruf besar)\n",
    "def ganti_vokal(kalimat, opsi):\n",
    "    vokal_kecil = {'a': '4', 'i': '1', 'u': '|_|', 'e': '3', 'o': '0'}\n",
    "    vokal_besar = {'A': '4', 'I': '1', 'U': '|_|', 'E': '3', 'O': '0'}\n",
    "\n",
    "    hasil = ''\n",
    "    for huruf in kalimat:\n",
    "        if opsi == 1 and huruf in vokal_kecil:\n",
    "            hasil += vokal_kecil[huruf]\n",
    "        elif opsi == 2 and huruf in vokal_besar:\n",
    "            hasil += vokal_besar[huruf]\n",
    "        else:\n",
    "            hasil += huruf\n",
    "    return hasil\n",
    "\n",
    "print(reverse_per_kata(\"AKU CINTA KAMU\"))  # Output: \"UKA ATNIC UMAK\"\n",
    "print(urutkan_kalimat(\"HARI INI SEDANG BELAJAR PYTHON\", [5, 1, 4, 3, 2]))\n",
    "# Output: \"PYTHON HARI BELAJAR SEDANG INI\"\n",
    "print(ganti_vokal(\"Aku Cinta Kamu\", 1))  # Output: \"Ak|_| C1nt4 K4m|_|\"\n",
    "print(ganti_vokal(\"Aku Cinta Kamu\", 2))  # Output: \"4ku Cinta Kamu\"\n"
   ]
  }
 ],
 "metadata": {
  "kernelspec": {
   "display_name": "Python [conda env:base] *",
   "language": "python",
   "name": "conda-base-py"
  },
  "language_info": {
   "codemirror_mode": {
    "name": "ipython",
    "version": 3
   },
   "file_extension": ".py",
   "mimetype": "text/x-python",
   "name": "python",
   "nbconvert_exporter": "python",
   "pygments_lexer": "ipython3",
   "version": "3.12.7"
  }
 },
 "nbformat": 4,
 "nbformat_minor": 5
}
