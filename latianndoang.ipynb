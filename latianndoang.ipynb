{
 "cells": [
  {
   "cell_type": "markdown",
   "id": "e6b3174b-130a-47dd-89a8-dc8b115abcbd",
   "metadata": {},
   "source": [
    "1.OPERATOR ARITMATIKA"
   ]
  },
  {
   "cell_type": "code",
   "execution_count": null,
   "id": "eaaf5992-b96a-4979-9eb9-845a2cd73508",
   "metadata": {},
   "outputs": [],
   "source": [
    "#soal 1\n",
    "apelBudi = 12\n",
    "temanBudi = 4\n",
    "apelDiterima = int(apelBudi / temanBudi)\n",
    "print(\"Apel Yang Diterima Teman Budi Sebanyak=\",apelDiterima)\n",
    "\n",
    "#soal2\n",
    "tambahanApel = 8\n",
    "jumlahApel = int(apelDiterima + tambahanApel)\n",
    "print(\"Jadi jumlah Apel Yang Diterima Teman Budi dan Apel Tambahan Sebanyak=\",jumlahApel)"
   ]
  },
  {
   "cell_type": "markdown",
   "id": "afef1629-d707-48ec-b7e8-780364701c48",
   "metadata": {},
   "source": [
    "2. OPERATOR PERBANDINGAN"
   ]
  },
  {
   "cell_type": "code",
   "execution_count": 60,
   "id": "785c6958-0fa1-4034-a77d-332f522de12a",
   "metadata": {},
   "outputs": [
    {
     "name": "stdin",
     "output_type": "stream",
     "text": [
      "Masukan Tinggi Siti: 160\n",
      "Masukan Tinggi Andi: 165\n"
     ]
    },
    {
     "name": "stdout",
     "output_type": "stream",
     "text": [
      "Apakah Siti Lebih Tinggi dari Andi= False\n"
     ]
    }
   ],
   "source": [
    "Siti = int(input(\"Masukan Tinggi Siti:\"))\n",
    "Andi = int(input(\"Masukan Tinggi Andi:\"))\n",
    "lebihTinggi = Siti > Andi\n",
    "\n",
    "print(\"Apakah Siti Lebih Tinggi dari Andi=\", lebihTinggi)\n"
   ]
  },
  {
   "cell_type": "markdown",
   "id": "6cccf7ed-dfa0-4a56-b530-bd9d04261064",
   "metadata": {},
   "source": [
    "3. OPERATOR LOGIKA"
   ]
  },
  {
   "cell_type": "code",
   "execution_count": null,
   "id": "fcd4a0ba-6d77-4fba-b47b-853710550a9c",
   "metadata": {},
   "outputs": [],
   "source": [
    "\n",
    "JikaCuacaCerah = True\n",
    "JikaPrSelesai = False\n",
    "\n",
    "BudiBisaBermain = JikaCuacaCerah and JikaPrSelesai\n",
    "if BudiBisaBermain:\n",
    "    print(\"Budi Bisa Bermain Diluar\")\n",
    "else:\n",
    "    print(\"Budi Tidak Bisa Bermain Diluar\")"
   ]
  },
  {
   "cell_type": "markdown",
   "id": "4a0f38cb-152e-4d4e-852b-0184b03e15aa",
   "metadata": {},
   "source": [
    "4. OPERATOR BITWISE\n",
    "   "
   ]
  },
  {
   "cell_type": "code",
   "execution_count": null,
   "id": "7672e391-2461-4624-87e5-60b43435e9c4",
   "metadata": {},
   "outputs": [],
   "source": [
    "angka1 = int(input(\"Isikan biangan 1:\"))\n",
    "angka2 = int(input(\"Isikan biangan 2:\"))\n",
    "\n",
    "print(bin(number1))\n",
    "print(bin(number2))\n",
    "print(\"----------&\")\n",
    "print(bin(number1 & number2),\"=\",number1 & number2)\n",
    "\n",
    "print(bin(number1))\n",
    "print(bin(number2))\n",
    "print(\"----------|\")\n",
    "print(bin(number1 | number2),\"=\",number1 | number2) \n",
    "\n",
    "print(bin(number1))\n",
    "print(bin(number2))\n",
    "print(\"----------^\")\n",
    "print(bin(number1 ^ number2),\"=\",number1 ^ number2)\n"
   ]
  },
  {
   "cell_type": "markdown",
   "id": "1560b08a-8649-4db7-8439-108b540f839d",
   "metadata": {},
   "source": [
    "5. OPERATOR PENUGASAN\n",
    "   "
   ]
  },
  {
   "cell_type": "code",
   "execution_count": 110,
   "id": "10087841-14d1-48af-8f90-77b68a5a2630",
   "metadata": {},
   "outputs": [
    {
     "name": "stdout",
     "output_type": "stream",
     "text": [
      "40000\n"
     ]
    }
   ],
   "source": [
    "saldoPulsaAwal = 50000\n",
    "ngisiUlang = 20000\n",
    "membeliPaket = 30000\n",
    "totalSaldoPulsa = (saldoPulsaAwal + ngisiUlang - membeliPaket)\n",
    "print(totalSaldoPulsa)"
   ]
  },
  {
   "cell_type": "code",
   "execution_count": 108,
   "id": "b2b6b59d-06db-4702-83c6-c887f5eeef49",
   "metadata": {},
   "outputs": [
    {
     "name": "stdout",
     "output_type": "stream",
     "text": [
      "40000\n"
     ]
    }
   ],
   "source": [
    "saldo = 50000\n",
    "saldo += 20000\n",
    "saldo -= 30000\n",
    "print(saldo)\n",
    "\n"
   ]
  },
  {
   "cell_type": "markdown",
   "id": "d131e05c-f3a2-4f76-b56d-0bb60cdc03dc",
   "metadata": {},
   "source": [
    "6. OPERATOR KEANGGOTAAN"
   ]
  },
  {
   "cell_type": "code",
   "execution_count": 127,
   "id": "00f9de6d-45f9-4585-be76-dfc373339273",
   "metadata": {},
   "outputs": [
    {
     "name": "stdout",
     "output_type": "stream",
     "text": [
      "True\n",
      "False\n",
      "True\n"
     ]
    }
   ],
   "source": [
    "pesertaCoding = [\"Andi\",\"Budi\",\"Citra\",\"Dewi\"]\n",
    "print (\"Eka\" not in pesertaCoding)\n",
    "print (\"Eka\" in pesertaCoding)\n",
    "\n",
    "kalimat = \"saya suka belajar python\"\n",
    "print (\"python\" in kalimat)"
   ]
  },
  {
   "cell_type": "markdown",
   "id": "685b9f61-c269-4e07-b402-aa790e93528f",
   "metadata": {},
   "source": [
    "7. OPERATOR KEANGGOTAN"
   ]
  },
  {
   "cell_type": "code",
   "execution_count": 142,
   "id": "5dcc1513-6f5e-48ae-b234-4726c4f8ac60",
   "metadata": {},
   "outputs": [
    {
     "name": "stdout",
     "output_type": "stream",
     "text": [
      "True\n",
      "False\n"
     ]
    }
   ],
   "source": [
    "x = 20\n",
    "y = 20\n",
    "a = x is y\n",
    "print(a)\n",
    "\n",
    "list1 = [15,16,17,18,19,20]\n",
    "list2 = [15,16,17,18,19,20]\n",
    "a = list1 is list2\n",
    "print(a)"
   ]
  },
  {
   "cell_type": "markdown",
   "id": "7018eb39-24f7-43c9-ade8-4c49bb3c42a9",
   "metadata": {},
   "source": [
    "8. OPERATOR TERNARY"
   ]
  },
  {
   "cell_type": "code",
   "execution_count": null,
   "id": "52966488-08f8-4c55-8164-0ef292beeb48",
   "metadata": {},
   "outputs": [],
   "source": [
    "nilai = int(input(\"Masukan Nilai:\"))\n",
    "kkm = 75\n",
    "\n",
    "hasil = \"Lulus\" if nilai >= kkm else \"Tidak Lulus\"\n",
    "print = (hasil)\n"
   ]
  }
 ],
 "metadata": {
  "kernelspec": {
   "display_name": "Python [conda env:base] *",
   "language": "python",
   "name": "conda-base-py"
  },
  "language_info": {
   "codemirror_mode": {
    "name": "ipython",
    "version": 3
   },
   "file_extension": ".py",
   "mimetype": "text/x-python",
   "name": "python",
   "nbconvert_exporter": "python",
   "pygments_lexer": "ipython3",
   "version": "3.12.7"
  }
 },
 "nbformat": 4,
 "nbformat_minor": 5
}
