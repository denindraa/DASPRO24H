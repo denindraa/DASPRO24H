{
 "cells": [
  {
   "cell_type": "markdown",
   "id": "9c080e79-e587-4897-98da-5ffd42a9cd33",
   "metadata": {},
   "source": [
    "x = int(input(\"Isikan Nilai X :\"))\n",
    "y = int(input(\"Isikan Nilai Y :\"))\n",
    "\n",
    "hasilTambah = x + y\n",
    "hasilKurang = x - y \n",
    "hasilKali = x * y\n",
    "hasilBagi = x / y\n",
    "hasilMod = x % y\n",
    "hasilPangkat = x ** y\n",
    "hasilBagiBulat = x // y\n",
    "\n",
    "print(\"Hasil Penjumlahan\",x,\"+\",y,\"=\",hasilTambah)\n",
    "print(\"Hasil Pengurangan\",x,\"-\",y,\"=\",hasilKurang)\n",
    "print(\"Hasil Perkalian\",x,\"*\",y,\"=\",hasilKali)\n",
    "print(\"Hasil Pembagian\",x,\"/\",y,\"=\",hasilBagi)\n",
    "print(\"Hasil Modulus\",x,\"%\",y,\"=\",hasilMod)\n",
    "print(\"Hasil Pangkat\",x,\"**\",y,\"=\",hasilPangkat)\n",
    "print(\"Hasil Bagi Bulat\",x,\"//\",y,\"=\",hasilBagiBulat)\n",
    "\n"
   ]
  },
  {
   "cell_type": "code",
   "execution_count": 12,
   "id": "dc278dd4-09a0-41db-bbc5-3be67859b35b",
   "metadata": {},
   "outputs": [
    {
     "name": "stdin",
     "output_type": "stream",
     "text": [
      "isikanNilai : 10\n"
     ]
    },
    {
     "name": "stdout",
     "output_type": "stream",
     "text": [
      "Nilai dari variabel <nilai> adalah: 10\n",
      "<nilai> seletah ditambahkan dengan 5 adalah: 15\n",
      "<nilai> seletah dikurang dengan 10 adalah: 5\n",
      "<nilai> seletah dikalikan dengan 4 adalah: 20\n",
      "<nilai> seletah dibagi dengan 2 adalah: 10.0\n",
      "<nilai> seletah dimod dengan 4 adalah: 2.0\n",
      "<nilai> seletah dipangkat dengan 6 adalah: 64.0\n",
      "<nilai> seletah dibagibulat dengan 2 adalah: 32.0\n"
     ]
    }
   ],
   "source": [
    "nilai = int(input(\"isikanNilai :\"))\n",
    "print(\"Nilai dari variabel <nilai> adalah:\",nilai)\n",
    "nilai+=5\n",
    "print(\"<nilai> seletah ditambahkan dengan 5 adalah:\",nilai)\n",
    "nilai-=10\n",
    "print(\"<nilai> seletah dikurang dengan 10 adalah:\",nilai)\n",
    "nilai*=4\n",
    "print(\"<nilai> seletah dikalikan dengan 4 adalah:\",nilai)\n",
    "nilai/=2\n",
    "print(\"<nilai> seletah dibagi dengan 2 adalah:\",nilai)\n",
    "nilai%=4\n",
    "print(\"<nilai> seletah dimod dengan 4 adalah:\",nilai)\n",
    "nilai**=6\n",
    "print(\"<nilai> seletah dipangkat dengan 6 adalah:\",nilai)\n",
    "nilai//=2\n",
    "print(\"<nilai> seletah dibagibulat dengan 2 adalah:\",nilai)\n"
   ]
  },
  {
   "cell_type": "code",
   "execution_count": 3,
   "id": "4dc19197-0176-44b7-86fd-cad9948fb14d",
   "metadata": {},
   "outputs": [
    {
     "name": "stdin",
     "output_type": "stream",
     "text": [
      "masukan Nilai 1: 22\n",
      "masukan Nilai 2: 22\n"
     ]
    },
    {
     "name": "stdout",
     "output_type": "stream",
     "text": [
      "Apakah 22 Sama dengan 22 ? True\n",
      "Apakah 22 Tidak sama dengan 22 ? True\n",
      "Apakah 22 Lebih besar 22 ? True\n",
      "Apakah 22 Lebih kecil 22 ? True\n",
      "Apakah 22 Lebih kecil atau sama dengan 22 ? True\n",
      "Apakah 22 Lebih besar atau sama dengan 22 ? True\n"
     ]
    }
   ],
   "source": [
    "#OPERATOR PERBANDINGAN\n",
    "\n",
    "val1 = int(input(\"masukan Nilai 1:\"))\n",
    "val2 = int(input(\"masukan Nilai 2:\"))\n",
    "\n",
    "print(\"Apakah\",val1,\"Sama dengan\",val2,\"?\",val1==val2)\n",
    "print(\"Apakah\",val1,\"Tidak sama dengan\",val2,\"?\",val1==val2)\n",
    "print(\"Apakah\",val1,\"Lebih besar\",val2,\"?\",val1==val2)\n",
    "print(\"Apakah\",val1,\"Lebih kecil\",val2,\"?\",val1==val2)\n",
    "print(\"Apakah\",val1,\"Lebih kecil atau sama dengan\",val2,\"?\",val1==val2)\n",
    "print(\"Apakah\",val1,\"Lebih besar atau sama dengan\",val2,\"?\",val1==val2)"
   ]
  },
  {
   "cell_type": "code",
   "execution_count": 7,
   "id": "0f01efe8-d130-40d8-9085-2e49006ad848",
   "metadata": {},
   "outputs": [
    {
     "name": "stdin",
     "output_type": "stream",
     "text": [
      "Isikan Bilangan 1: 22\n",
      "Isikan Bilangan 2: 10\n"
     ]
    },
    {
     "name": "stdout",
     "output_type": "stream",
     "text": [
      "Apakah,<num1>, %2 = 0 and <num2> > 4 True\n",
      "Apakah,<num1>, %2 = 0 and <num2> > 4 True\n",
      "Apakah,<num1>, %2 = 0 and <num2> > 4 True\n"
     ]
    }
   ],
   "source": [
    "#OPERATOR LOGIKA\n",
    "\n",
    "num1 = int(input(\"Isikan Bilangan 1:\"))\n",
    "num2 = int(input(\"Isikan Bilangan 2:\"))\n",
    "print(\"Apakah,<num1>, %2 = 0 and <num2> > 4\",num1 %2==0 and num2 > 4)\n",
    "print(\"Apakah,<num1>, %2 = 0 and <num2> > 4\",num1 %2==0 or num2 > 4)\n",
    "print(\"Apakah,<num1>, %2 = 0 and <num2> > 4\",not(1 %2==0 and num2 > 4))\n"
   ]
  },
  {
   "cell_type": "code",
   "execution_count": 30,
   "id": "98ec7bb5-ac77-418c-90a8-fafc6133a123",
   "metadata": {},
   "outputs": [
    {
     "name": "stdout",
     "output_type": "stream",
     "text": [
      "Alamat Memori number1: 140734590888664\n",
      "Alamat Memori number2: 2763700431456\n",
      "Alamat Memori number3: 2763700431456\n",
      "False\n",
      "True\n",
      "True\n"
     ]
    }
   ],
   "source": [
    "#OPERATOR IDENTITAS\n",
    "\n",
    "number1 = 10\n",
    "number2 = \"10\"\n",
    "number3=number2\n",
    "\n",
    "print(\"Alamat Memori number1:\",id(number1))\n",
    "print(\"Alamat Memori number2:\",id(number2))\n",
    "print(\"Alamat Memori number3:\",id(number3))\n",
    "\n",
    "print(number1 is number2)\n",
    "print(number2 is number3)\n",
    "print(number1 is not number2)"
   ]
  },
  {
   "cell_type": "code",
   "execution_count": 36,
   "id": "f2ca5b53-4ec0-40ff-bca0-9ff61c0c9a49",
   "metadata": {},
   "outputs": [
    {
     "name": "stdout",
     "output_type": "stream",
     "text": [
      "False\n",
      "False\n",
      "True\n"
     ]
    }
   ],
   "source": [
    "#OPERATOR KEANGGOTAAN\n",
    "\n",
    "nama = \"Prabowo\"\n",
    "print(\"p\" in nama)\n",
    "listPresiden = (\"Soekarno\",\"Soeharto\",\"Habibi\",\"Denindra\")\n",
    "print(nama in listPresiden)\n",
    "print(nama not in listPresiden)"
   ]
  },
  {
   "cell_type": "code",
   "execution_count": 7,
   "id": "1ddd5144-97e0-4826-9916-121c9ea7228c",
   "metadata": {},
   "outputs": [
    {
     "name": "stdin",
     "output_type": "stream",
     "text": [
      "Isikan biangan 1: 13\n",
      "Isikan biangan 2: 1\n"
     ]
    },
    {
     "name": "stdout",
     "output_type": "stream",
     "text": [
      "0b1101\n",
      "0b1\n",
      "----------&\n",
      "0b1 = 1\n",
      "0b1101\n",
      "0b1\n",
      "----------|\n",
      "0b1101 = 13\n",
      "0b1101\n",
      "0b1\n",
      "----------^\n",
      "0b1100 = 12\n",
      "0b1101 Geser ke kiri sebanyak 1\n",
      "Hasilnya adalah: 0b11010 = 26\n",
      "0b1101 Geser ke kiri sebanyak 1\n",
      "Hasilnya adalah: 0b110 = 6\n"
     ]
    }
   ],
   "source": [
    "#OPERATOR BITWISE\n",
    "\n",
    "number1 = int(input(\"Isikan biangan 1:\"))\n",
    "number2 = int(input(\"Isikan biangan 2:\"))\n",
    "\n",
    "print(bin(number1))\n",
    "print(bin(number2))\n",
    "print(\"----------&\")\n",
    "print(bin(number1 & number2),\"=\",number1 & number2)\n",
    "\n",
    "print(bin(number1))\n",
    "print(bin(number2))\n",
    "print(\"----------|\")\n",
    "print(bin(number1 | number2),\"=\",number1 | number2)   \n",
    "\n",
    "print(bin(number1))\n",
    "print(bin(number2))\n",
    "print(\"----------^\")\n",
    "print(bin(number1 ^ number2),\"=\",number1 ^ number2)\n",
    "\n",
    "print(bin(number1),\"Geser ke kiri sebanyak\",number2)\n",
    "print(\"Hasilnya adalah:\",bin(number1 << number2),\"=\",number1<<number2)\n",
    "\n",
    "print(bin(number1),\"Geser ke kiri sebanyak\",number2)\n",
    "print(\"Hasilnya adalah:\",bin(number1 >> number2),\"=\",number1>>number2)"
   ]
  },
  {
   "cell_type": "markdown",
   "id": "c1fa6ec4-5ba9-4983-b13b-db8c83cc5651",
   "metadata": {},
   "source": [
    "OPERATOR TERNARY\n",
    "\n"
   ]
  },
  {
   "cell_type": "code",
   "execution_count": 55,
   "id": "104c0efb-c4e8-4689-8f32-3589db952745",
   "metadata": {},
   "outputs": [
    {
     "name": "stdin",
     "output_type": "stream",
     "text": [
      "Isikan Bilangan: 20\n"
     ]
    },
    {
     "name": "stdout",
     "output_type": "stream",
     "text": [
      "20 Adalah bilangan Genap\n"
     ]
    }
   ],
   "source": [
    "#BILANGIN GANJIL ATAU GENAP\n",
    "number = int(input(\"Isikan Bilangan:\"))\n",
    "oddEven = \"Genap\" if number % 2==0 else \"Ganjil\"\n",
    "print(number, \"Adalah bilangan\",oddEven)"
   ]
  },
  {
   "cell_type": "code",
   "execution_count": 11,
   "id": "aa9deea2-2ec4-4275-81cc-2990b33e4386",
   "metadata": {},
   "outputs": [
    {
     "ename": "SyntaxError",
     "evalue": "incomplete input (2419040778.py, line 18)",
     "output_type": "error",
     "traceback": [
      "\u001b[1;36m  Cell \u001b[1;32mIn[11], line 18\u001b[1;36m\u001b[0m\n\u001b[1;33m    \u001b[0m\n\u001b[1;37m    ^\u001b[0m\n\u001b[1;31mSyntaxError\u001b[0m\u001b[1;31m:\u001b[0m incomplete input\n"
     ]
    }
   ],
   "source": [
    "pisang = int(input(\"Isikan jumlah pisang:\"))\n",
    "kolak = int(input(\"Isikan Jumlah Kolak:\"))\n",
    "esBuah = int(input(\"Isikan Jumlah Es Buah\"))\n",
    "\n",
    "totalPisang = pisang * 13.000\n",
    "totalKolak = kolak * 7000\n",
    "totalEsBuah = esBuah * 15.000\n",
    "print(\"Pisang\",pisang,\"* 13.000\",totalPisang)\n",
    "print(\"Kolak\",pisang,\"* 7000\",totalKolak)\n",
    "print(\"esBuah\",esBuah,\"* 15.000\",totalEsBuah)\n",
    "print(\"=============\")\n",
    "totalBelanja = totalPisang + totalKolak + totalEsBuah\n",
    "print(\"Total Belanja :\", totalBelanja)\n",
    "discount = 5 if totalBelanja > 25.000 else 0\n",
    "print(\"Total Discount:\",discount,\"% ->\",totalBelanja * (discount/100))\n",
    "print(\"Total Bayar :\", totalBelanja - (totalBelanja * (discount/100))\n",
    "\n",
    "\n"
   ]
  },
  {
   "cell_type": "code",
   "execution_count": null,
   "id": "791b446f-da90-414f-ac2b-fcf0ce2e3640",
   "metadata": {},
   "outputs": [],
   "source": [
    "pisang = int(input(\"Isikan jumlah pisang:\"))\n",
    "kolak = int(input(\"Isikan Jumlah Kolak:\"))\n",
    "esBuah = int(input(\"Isikan Jumlah Es Buah\"))\n",
    "\n",
    "totalPisang = pisang * 13.000\n",
    "totalKolak = kolak * 7000\n",
    "totalEsBuah = esBuah * 15.000\n",
    "print(\"Pisang\",pisang,\"* 13.000\",totalPisang)\n",
    "print(\"Kolak\",pisang,\"* 7000\",totalKolak)\n",
    "print(\"esBuah\",esBuah,\"* 15.000\",totalEsBuah)\n",
    "print(\"=============\")\n",
    "totalBelanja = totalPisang + totalKolak + totalEsBuah\n",
    "print(\"Total Belanja :\", totalBelanja)\n",
    "discount = 5 if totalBelanja > 25.000 else 0\n",
    "print(\"Total Discount:\",discount,\"% ->\",totalBelanja * 9discount/100))\n",
    "print(\"Total Bayar :\", totalBelanja - (totalBelanja * (discount/100))\n"
   ]
  }
 ],
 "metadata": {
  "kernelspec": {
   "display_name": "Python [conda env:base] *",
   "language": "python",
   "name": "conda-base-py"
  },
  "language_info": {
   "codemirror_mode": {
    "name": "ipython",
    "version": 3
   },
   "file_extension": ".py",
   "mimetype": "text/x-python",
   "name": "python",
   "nbconvert_exporter": "python",
   "pygments_lexer": "ipython3",
   "version": "3.12.7"
  }
 },
 "nbformat": 4,
 "nbformat_minor": 5
}
