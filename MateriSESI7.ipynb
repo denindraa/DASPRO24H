{
 "cells": [
  {
   "cell_type": "code",
   "execution_count": null,
   "id": "c3a1e37e-fcb4-411d-b966-c345a6be8d26",
   "metadata": {},
   "outputs": [],
   "source": [
    "# for - while\n",
    "#collections -> list, tuple, dictionary, String\n",
    "fruits = [\"Apple\", \"Banana\",\"Watermelon\",\"Pineapple\"]\n",
    "\n",
    "for fruit in fruits:\n",
    "    print(f\"Buah : {fruit}\")\n",
    "print(f\"Looping Selesai!!\")\n"
   ]
  },
  {
   "cell_type": "code",
   "execution_count": null,
   "id": "4ab14d85-ca1c-446f-b63a-957e8923184c",
   "metadata": {},
   "outputs": [],
   "source": [
    "#Implementasi, Mencari nilai rata rata pemograman dari kelas TI 24h\n",
    "nilaiPemograman = [80,90,100,60,65,70]\n",
    "#1.mencari total -> didalam looping\n",
    "#2.membagi dengan jumlah data -> diluar\n",
    "#3.Hiltunglah jumlah mahasiswa yang lulus >= 70\n",
    "\n",
    "total = 0\n",
    "lulus = 0\n",
    "for nilai in nilaiPemograman:\n",
    "    if nilai >=70:\n",
    "        lulus +=1\n",
    "    total = total + nilai\n",
    "rata2 = total / len(nilaiPemograman)\n",
    "print(f\"Nilai Rata Rata Pemograman TI24H :{rata2}\")\n",
    "print(f\"Mahasiswa yang lulus sebanyak {len(nilaiPemograman)-lulus} orang\")"
   ]
  },
  {
   "cell_type": "code",
   "execution_count": null,
   "id": "8f77e8f5-9637-408b-826f-84d8570bd9ad",
   "metadata": {},
   "outputs": [],
   "source": [
    "#Hitunglah jumlah huruf vokal a,i,u,e,o\n",
    "#Nusa Putra\n",
    "listVokal = [\"a\",\"i\",\"u\",\"e\",\"o\"]\n",
    "totalVokal = 0\n",
    "kampus = input(\"Isikan Nama Kampus\")\n",
    "for kar in kampus:\n",
    "    if kar.lower() in listVokal:\n",
    "        totalVokal +=1\n",
    "\n",
    "print(f\"Jumlah huruf vokal = {totalVokal}\")\n",
    "   "
   ]
  },
  {
   "cell_type": "code",
   "execution_count": null,
   "id": "67a51d62-7a94-4f99-8fbe-a469373c2439",
   "metadata": {},
   "outputs": [],
   "source": [
    "#for -> LIst Comprehension\n",
    "data = [1,2,3,4,5,6]\n",
    "pangkat = [x**2 for x in data]\n",
    "print (pangkat)"
   ]
  },
  {
   "cell_type": "code",
   "execution_count": null,
   "id": "4b9bf13b-470f-48aa-b28a-e97ad953fb68",
   "metadata": {},
   "outputs": [],
   "source": [
    "#for -> enumeration \n",
    "month = [\"jan\",\"Feb\",\"Mar\",\"Apr\",\"Mei\",\"Jun\",\"Jul\",\"Aug\",\"Sep\"]\n",
    "\n",
    "for i,m in enumerate (month):\n",
    "    print(f\"Indeks {i} : {m}\")"
   ]
  },
  {
   "cell_type": "code",
   "execution_count": null,
   "id": "b75142c2-757f-4e49-8aff-87bf19598db3",
   "metadata": {},
   "outputs": [],
   "source": [
    "cinemaChair = [\"M\",\"W\",\"M\",\"M\",\"M\",\"W\"]\n",
    "totalKursi = 0\n",
    "for kursi in cinemaChair:\n",
    "    if kursi == \"M\":\n",
    "        totalKursi+=1 \n",
    "print(f\"Jumlah Kursi Laki laki {totalKursi}\")\n",
    "print(f\"Jumlah KursiWanita {len(cinemaChair)-totalKursi}\")"
   ]
  },
  {
   "cell_type": "code",
   "execution_count": null,
   "id": "2ea3b21b-50e1-4ffa-ba6d-4cd3927e16bc",
   "metadata": {},
   "outputs": [],
   "source": [
    "Kursi = [\"L\",\"L\",\"P\",\"L\",\"P\",\"P\",\"P\"]\n",
    "#hitunglah jumlah penonton bioskop yang kemungkinan couple\n",
    "totalCouple = 0\n",
    "for i,k in enumerate (Kursi):\n",
    "    if i < len(Kursi)-1:\n",
    "        if Kursi[i] != Kursi[i+1]:\n",
    "            totalCouple += 1\n",
    "print(f\"Jumlah Kemungkinan Penonton Couple : {totalCouple}\")"
   ]
  },
  {
   "cell_type": "code",
   "execution_count": null,
   "id": "ea770608-18f5-4774-b159-f312f67e0961",
   "metadata": {},
   "outputs": [],
   "source": [
    "#for -> range\n",
    "#mencetak 0-9\n",
    "for i in range(10):\n",
    "    print(i,\" \",end='')\n",
    "print()\n",
    "\n",
    "#mencetak 5-15\n",
    "for j in range(5-16):\n",
    "    print(j,\" \", end= '')\n",
    "print()\n",
    "\n",
    "#mencetak 10 20 30 40 50 ..100\n",
    "for k in range(10-11):\n",
    "    print(k * 10,\" \", end='')\n",
    "\n",
    "print()\n",
    "\n",
    "#mencetak 10 -20 30 -40 50 -60 70 -80 90 -100\n",
    "tanda = 1\n",
    "for m in range(1,11):\n",
    "    print(m * 10 * tanda,\" \", end='')\n",
    "    tanda *=-1 \n",
    "print()\n",
    "\n",
    "#step\n",
    "for n in range(1,10,2):\n",
    "    print(n,\" \", end= '')\n",
    "\n",
    "print()\n",
    "for p in range(10,1,-2):\n",
    "    print(p,\" \", end='')"
   ]
  },
  {
   "cell_type": "code",
   "execution_count": null,
   "id": "86e2d299-822f-4cc4-81fc-28e554265f4d",
   "metadata": {},
   "outputs": [],
   "source": [
    "#Menghitung Faktorial \n",
    "# 5 = 5*4*3*2*1 = 120\n",
    "# 4 = 4*3*2*1 = 24\n",
    "total = 1\n",
    "number = int(input(\"Isikan Bilangan \"))\n",
    "for i in range(1, number +1):\n",
    "    total *=i\n",
    "print(f\"{number} ! = {total}\")"
   ]
  },
  {
   "cell_type": "code",
   "execution_count": null,
   "id": "93eb04b2-e8bc-490a-8d72-993f8459679a",
   "metadata": {},
   "outputs": [],
   "source": [
    "#Menentukan Bilangan Prima atau BUKAN\n",
    "#BIlangan Prima .... \n",
    "number = int(input(\"Isikan Bilangan :\"))\n",
    "for i in range(1, number +1):\n",
    "    if number % i==0:\n",
    "        total +=1\n",
    "\n",
    "if total ==2:\n",
    "    print(f\"{number} adalah bilangan Prima\")\n",
    "else: \n",
    "    print(f\"{number}adalah bukan bilangan Prima\")"
   ]
  }
 ],
 "metadata": {
  "kernelspec": {
   "display_name": "Python [conda env:base] *",
   "language": "python",
   "name": "conda-base-py"
  },
  "language_info": {
   "codemirror_mode": {
    "name": "ipython",
    "version": 3
   },
   "file_extension": ".py",
   "mimetype": "text/x-python",
   "name": "python",
   "nbconvert_exporter": "python",
   "pygments_lexer": "ipython3",
   "version": "3.12.7"
  }
 },
 "nbformat": 4,
 "nbformat_minor": 5
}
