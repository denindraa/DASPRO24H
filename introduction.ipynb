{
 "cells": [
  {
   "cell_type": "markdown",
   "id": "eaab9ac4-fd5d-4685-a8ec-d80ac9ddea3d",
   "metadata": {},
   "source": [
    "<center><img src=\"https://static.promediateknologi.id/crop/0x0:0x0/0x0/webp/photo/p2/98/2024/11/25/2024-11-03T164813Z_516028322_UP1EKB31AOBHO_RTRMADP_3_SOCCER-ENGLAND-MUN-CHE-REPORTJPG-633396016.jpg\" widht=\"200\" ></center><br>\n",
    "Pada jupyter notebooks jenis </b>cell</b> terbagi menjadi\n",
    "<ol>\n",
    "    <lim>M (Mark Down) -> M</li>\n",
    "    <li>Y (Code) -> Y</li>\n",
    "</ol>\n",
    "<hr>"
   ]
  }
 ],
 "metadata": {
  "kernelspec": {
   "display_name": "Python [conda env:base] *",
   "language": "python",
   "name": "conda-base-py"
  },
  "language_info": {
   "codemirror_mode": {
    "name": "ipython",
    "version": 3
   },
   "file_extension": ".py",
   "mimetype": "text/x-python",
   "name": "python",
   "nbconvert_exporter": "python",
   "pygments_lexer": "ipython3",
   "version": "3.12.7"
  }
 },
 "nbformat": 4,
 "nbformat_minor": 5
}
