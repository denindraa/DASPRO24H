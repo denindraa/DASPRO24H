{
 "cells": [
  {
   "cell_type": "code",
   "execution_count": 75,
   "id": "81e448ef-70a0-460f-a256-4595a2ecf26d",
   "metadata": {},
   "outputs": [],
   "source": [
    "#Fungsi tanpa parameter\n",
    "import datetime #Built in function\n",
    "def showDate():\n",
    "    today = datetime.date.today()\n",
    "    print(f\"Sekarang Tanggal : {today}\")\n",
    "\n",
    "def isWeekday(): \n",
    "    week = datetime.date.today.weekday()\n",
    "    if week >=5:\n",
    "        print(f\"Sekarang Adalah Weekend\")\n",
    "    else:\n",
    "        print(f\"Sekarang Saatnya Bekeja\")\n",
    "    "
   ]
  },
  {
   "cell_type": "code",
   "execution_count": 69,
   "id": "a7965303-2ad5-4f3e-af5f-ac2c8ea474ac",
   "metadata": {},
   "outputs": [],
   "source": [
    "#Fungsi dengan parameter\n",
    "def getFullName(first,middle,last):\n",
    "    return f\"Welcome, {first} {middle} {last}, S.Kom\""
   ]
  },
  {
   "cell_type": "code",
   "execution_count": 71,
   "id": "5cabef99-129e-46fc-8b51-0f0c5f4bee9b",
   "metadata": {},
   "outputs": [
    {
     "name": "stdin",
     "output_type": "stream",
     "text": [
      "Isikan Bilangan 1: 5\n",
      "Isikan Bilangan 2: 10\n"
     ]
    },
    {
     "name": "stdout",
     "output_type": "stream",
     "text": [
      "Hasil penjumlahan 5 dan 10:15\n",
      "Hasil perkalian 5 dan 10:50\n",
      "Hasil penjumlahan 5 dan 10:65\n",
      "Hasil penjumlahan 5 dan 10:15\n",
      "Hasil perkalian 5 dan 10:15\n"
     ]
    }
   ],
   "source": [
    "#Fungsi dengan parameter dan return value untuk aritmatika\n",
    "def addNumber(num1,num2):\n",
    "    return num1 + num2\n",
    "\n",
    "def multiplyNumber(num1,num2):\n",
    "    return num1 * num2\n",
    "\n",
    "def addMulNumber(num1,num2):\n",
    "    add = num1 + num2\n",
    "    mul = num1 + num2\n",
    "    return add,mul\n",
    "\n",
    "bil1 = int(input(\"Isikan Bilangan 1:\"))\n",
    "bil2 = int(input(\"Isikan Bilangan 2:\"))\n",
    "r1 = addNumber(bil1,bil2)\n",
    "r2 = multiplyNumber(bil1,bil2)\n",
    "r3 = addNumber(r1,r2)\n",
    "add,mul = addMulNumber(bil1,bil2)\n",
    "\n",
    "print(f\"Hasil penjumlahan {bil1} dan {bil2}:{r1}\")\n",
    "print(f\"Hasil perkalian {bil1} dan {bil2}:{r2}\")\n",
    "print(f\"Hasil penjumlahan {bil1} dan {bil2}:{r3}\")\n",
    "print(f\"Hasil penjumlahan {bil1} dan {bil2}:{add}\")\n",
    "print(f\"Hasil perkalian {bil1} dan {bil2}:{mul}\")\n",
    "\n",
    "\n"
   ]
  },
  {
   "cell_type": "code",
   "execution_count": 85,
   "id": "b5595081-916d-4e38-a196-e7ea03be0c38",
   "metadata": {},
   "outputs": [
    {
     "name": "stdout",
     "output_type": "stream",
     "text": [
      "Sekarang Tanggal : 2025-05-21\n",
      "Welcome, Andi  Raharja, S.Kom\n",
      "Akun berhasil dibuat : \n",
      "No KTP: 3923728682683\n",
      "Nama:Rudisaldo awal:100000\n",
      "Proses Registrasi Berhasil!!\n",
      "\n",
      "Username :adi\n",
      "\n",
      "Nama :Adi\n",
      "Status :False\n",
      "Hak Akses :user\n"
     ]
    }
   ],
   "source": [
    "#Fungsi dengan nilai default\n",
    "def daftarRekening(no_ktp, nama, saldo=100000):\n",
    "    ket = f\"Akun berhasil dibuat : \\n\"\n",
    "    ket += f\"No KTP: {no_ktp}\\n\"\n",
    "    ket += f\"Nama:{nama}\"\n",
    "    ket += f\"saldo awal:{saldo}\"\n",
    "    return ket\n",
    "def userRegistration(username, pasword, nama, status=False, role=\"user\"):\n",
    "    print(f\"Proses Registrasi Berhasil!!\\n\")\n",
    "    print(f\"Username :{username}\\n\")\n",
    "    print(f\"Nama :{nama}\")\n",
    "    print(f\"Status :{status}\")\n",
    "    print(f\"Hak Akses :{role}\")\n",
    "\n",
    "showDate()\n",
    "#isWeekday()\n",
    "print(getFullName(\"Andi\",\"\",\"Raharja\"))\n",
    "print(daftarRekening(\"3923728682683\",\"Rudi\"))\n",
    "userRegistration(\"adi\",\"12345678\",\"Adi\")\n",
    "\n"
   ]
  },
  {
   "cell_type": "code",
   "execution_count": 65,
   "id": "0668b8dd-209e-45ff-8dfc-7d2e691d42b5",
   "metadata": {},
   "outputs": [
    {
     "name": "stdout",
     "output_type": "stream",
     "text": [
      "Args : ('Jan', 'Feb', 'Mar')\n",
      "KWargs: {'nama': 'Budi', 'umur': 21, 'alamat': 'Bandung'}\n",
      "Feb\n"
     ]
    }
   ],
   "source": [
    "#Function argumen dan keyword argumen -> * dan **\n",
    "def printData(*args, **kwargs):\n",
    "    print(\"Args :\", args)\n",
    "    print(\"KWargs:\", kwargs)\n",
    "    return args,kwargs\n",
    "\n",
    "args,kwargs = printData(\"Jan\",\"Feb\",\"Mar\",nama=\"Budi\",umur=21,alamat=\"Bandung\")\n",
    "print(args[1])\n",
    "\n",
    "\n",
    "def jumla(*argas, **kwargs):\n",
    "    total = sum(args)\n",
    "    for nilai in kwargs.values():\n",
    "        total += nilai\n",
    "        return total\n",
    "hasil = jumlahkan (10,20, bonus=5 ,tambahan=5)\n",
    "print(\"total\", hasil)\n",
    "#Buatlah fungsi untuk penjumlahan dengan parameter bebas\n",
    "\n"
   ]
  }
 ],
 "metadata": {
  "kernelspec": {
   "display_name": "Python [conda env:base] *",
   "language": "python",
   "name": "conda-base-py"
  },
  "language_info": {
   "codemirror_mode": {
    "name": "ipython",
    "version": 3
   },
   "file_extension": ".py",
   "mimetype": "text/x-python",
   "name": "python",
   "nbconvert_exporter": "python",
   "pygments_lexer": "ipython3",
   "version": "3.12.7"
  }
 },
 "nbformat": 4,
 "nbformat_minor": 5
}
