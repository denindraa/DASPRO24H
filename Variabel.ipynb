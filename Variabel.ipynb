{
 "cells": [
  {
   "cell_type": "code",
   "execution_count": 24,
   "id": "7fb767e9-6aed-462e-b7ac-b37ec72258b1",
   "metadata": {},
   "outputs": [
    {
     "name": "stdout",
     "output_type": "stream",
     "text": [
      "Nama : denindrahckd\n",
      "Alamat : Jl.Raya Cibolang\n",
      "Umur : 15\n",
      "Nilai Pemograman : 99.9\n",
      "StatusNikah : False\n",
      "propinsi: 743412\n"
     ]
    }
   ],
   "source": [
    "name = \"denindrahckd\"\n",
    "address,province = \"Jl.Raya Cibolang\",\"743412\"\n",
    "age = 15\n",
    "scorePython = 99.9\n",
    "isMarried = False\n",
    "\n",
    "print(\"Nama :\",name)\n",
    "print(\"Alamat :\",address)\n",
    "print(\"Umur :\",age)\n",
    "print(\"Nilai Pemograman :\",scorePython)\n",
    "print(\"StatusNikah :\",isMarried)\n",
    "print(\"propinsi:\",province)"
   ]
  },
  {
   "cell_type": "markdown",
   "id": "2560c2c4-0700-4294-8d78-a3902b4646e6",
   "metadata": {},
   "source": [
    "print(\"Tipe data <name> :\",type(name))\n",
    "print(\"Tipe data <address> :\",type(address))\n",
    "print(\"Tipe data <age> :\",type(age))\n",
    "print(\"Tipe data <scorePython> :\",type(scorePython))\n",
    "print(\"Tipe data <isMarried> :\",type(isMarried))"
   ]
  },
  {
   "cell_type": "code",
   "execution_count": 122,
   "id": "afd66436-8a89-46fd-baea-5953826eef12",
   "metadata": {},
   "outputs": [
    {
     "name": "stdout",
     "output_type": "stream",
     "text": [
      "743414-743412.0-True\n",
      "743412-743412.0-True\n",
      "99.9-99.9-99.9\n",
      "0_False_0.0\n",
      "Nilai desimal : 500\n",
      "Nilai biner : 10\n",
      "Nilai octal : 255\n",
      "Nilai hexa : 255\n",
      "Nilai biner dari  500 : 0b111110100\n",
      "Nilai Octal dari  500 : 0o764\n",
      "Nilai Hexa dari  500 : 0x1f4\n"
     ]
    }
   ],
   "source": [
    "#Casting / KOnversi Tipe Data \n",
    "#1 String ke (int,float,boolean)\n",
    "strToInt = int(province)\n",
    "strToFloat = float(province)\n",
    "strToBool = bool(province)\n",
    "print(strToInt + 2,strToFloat,strToBool, sep=\"-\")\n",
    "\n",
    "#2 Int ke (str, float, boolean)\n",
    "intToStr = str(province)\n",
    "intToFloat = float(province)\n",
    "intToBool = bool(province)\n",
    "print(intToStr, intToFloat, intToBool , sep=\"-\") \n",
    "#3 float ke (int, str , boolean)\n",
    "floatToInt = (scorePython)\n",
    "floatToStr = (scorePython)\n",
    "floatToBool = (scorePython)\n",
    "print(floatToInt, floatToStr, floatToBool, sep=\"-\")\n",
    "\n",
    "\n",
    "#4 Bool ke ( int, str, boolean)\n",
    "boolToInt = int(isMarried)\n",
    "boolToStr = str(isMarried)\n",
    "boolToFloat = float(isMarried)\n",
    "print(boolToInt, boolToStr, boolToFloat, sep=\"_\")\n",
    "\n",
    "#Tipe data basis bilangan (desimal,biner,octal, hexa)\n",
    "\n",
    "desimal = 500\n",
    "biner = 0b1010 #10\n",
    "octal = 0o377 #255\n",
    "hexa = 0xff #255\n",
    "\n",
    "print(\"Nilai desimal :\",desimal)\n",
    "print(\"Nilai biner :\",biner)\n",
    "print(\"Nilai octal :\",octal)\n",
    "print(\"Nilai hexa :\",hexa)\n",
    "\n",
    "print(\"Nilai biner dari \",desimal, \":\",bin(desimal))\n",
    "print(\"Nilai Octal dari \",desimal, \":\",oct(desimal))\n",
    "print(\"Nilai Hexa dari \", desimal, \":\",hex(desimal))"
   ]
  },
  {
   "cell_type": "code",
   "execution_count": 78,
   "id": "13a6fb12-6fa3-454b-8118-6e8c81b94d3b",
   "metadata": {},
   "outputs": [
    {
     "name": "stdout",
     "output_type": "stream",
     "text": [
      "C\n",
      "7\n",
      "K\n"
     ]
    }
   ],
   "source": [
    "city = \"CIBADAK\"\n",
    "lenght = len(city)\n",
    "print(city[0])\n",
    "print(lenght)\n",
    "print(city[lenght-1])"
   ]
  },
  {
   "cell_type": "code",
   "execution_count": 158,
   "id": "4b970f33-c93e-4914-8e0c-1dc010583d0e",
   "metadata": {},
   "outputs": [
    {
     "name": "stdout",
     "output_type": "stream",
     "text": [
      "['Bandung', 'Sukabumi', 'Bogor', 'Jakarta', 'Medan']\n",
      "Bandung\n",
      "Medan\n",
      "M\n",
      "n\n",
      "['Bali', 'Sukabumi', 'Bogor', 'Jakarta', 'Medan']\n",
      "('Andi', 'Ferdi', 'Wawan')\n",
      "Ferdi\n",
      "{'name': 'Wawan', 'age': 25, 'address': {'street': 'Cisaat', 'number': 21, 'province': 'Jawa Barat'}, 'isMarried': True, 'hobbies': ['Basket, Futsal, Makan']}\n",
      "25\n",
      "Jawa Barat\n",
      "Basket, Futsal, Makan\n",
      "{'name': 'japar', 'age': 22, 'address': {'street': 'Cibolang', 'number': 11, 'province': 'Jawa Timur'}, 'isMarried': True, 'hobbies': ['Basket, Futsal, Makan']}\n",
      "Jawa Timur\n"
     ]
    }
   ],
   "source": [
    "#Tipe data Collection\n",
    "cities =[\"Bandung\",\"Sukabumi\",\"Bogor\",\"Jakarta\",\"Medan\"]\n",
    "lenghtCities = len(cities)\n",
    "print(cities)\n",
    "print(cities[0])\n",
    "print(cities[lenghtCities-1])\n",
    "print(cities[lenghtCities-6][0])\n",
    "print(cities[lenghtCities-1][len(cities[lenghtCities-1])-1])\n",
    "#cities[5] \"Malang\" akan menyebabkan error out of range\n",
    "cities[0] = \"Bali\"\n",
    "print(cities)\n",
    "\n",
    "\n",
    "names = (\"Andi\",\"Ferdi\",\"Wawan\")\n",
    "print(names)\n",
    "print(names[1])\n",
    "#names[0] = \"Dedi\" error imumutable tuple\n",
    "\n",
    "studentData = {\n",
    "    \"name\" : \"Wawan\",\n",
    "    \"age\" : 25,\n",
    "    \"address\" : {\n",
    "        \"street\" : \"Cisaat\",\n",
    "        \"number\" : 21,\n",
    "        \"province\" : \"Jawa Barat\"\n",
    "    },\n",
    "    \"isMarried\" : True,\n",
    "    \"hobbies\" : [\"Basket, Futsal, Makan\"]\n",
    "} \n",
    "\n",
    "print(studentData)\n",
    "print(studentData[\"age\"])\n",
    "print(studentData[\"address\"] [\"province\"])\n",
    "print(studentData[\"hobbies\"] [0])\n",
    "\n",
    "studentList = [\n",
    "    {\n",
    "    \"name\" : \"japar\",\n",
    "    \"age\" : 22,\n",
    "    \"address\" : {\n",
    "        \"street\" : \"Cibolang\",\n",
    "        \"number\" : 11,\n",
    "        \"province\" : \"Jawa Timur\"\n",
    "    },\n",
    "    \"isMarried\" : True,\n",
    "    \"hobbies\" : [\"Basket, Futsal, Makan\"]\n",
    "    },\n",
    "\n",
    "    {\n",
    "     \"name\" : \"japar\",\n",
    "     \"age\" : 22,\n",
    "    \"address\" : {\n",
    "        \"street\" : \"Cibolang\",\n",
    "        \"number\" : 11,\n",
    "        \"province\" : \"Jawa Timur\"\n",
    "    },\n",
    "    \"isMarried\" : True,\n",
    "    \"hobbies\" : [\"Basket, Futsal, Makan\"]\n",
    "    }      \n",
    "    \n",
    "]\n",
    "print(studentList[1])\n",
    "print(studentList[1][\"address\"][\"province\"])\n",
    "      "
   ]
  },
  {
   "cell_type": "code",
   "execution_count": 178,
   "id": "319eb486-91ad-4c1a-9a7b-b7988848e71d",
   "metadata": {},
   "outputs": [
    {
     "name": "stdout",
     "output_type": "stream",
     "text": [
      "{'Name': 'Andi', 'Age': 30, 'Status': True}\n",
      "{'Name': 'Rudi', 'Address': 'Bogor'}\n",
      "{'Name': 'Tiger', 'Type': 'Mamalia'}\n",
      "{'Name': 'Crocodile', 'Type': 'Reptile'}\n",
      "{'Vehicle': 'Car', 'Brand': 'BMW', 'cc': '2500'}\n"
     ]
    }
   ],
   "source": [
    "#Konversi dictionary\n",
    "\n",
    "list_list = [[\"Name\",\"Andi\",],[\"Age\",30],[\"Status\",True]]\n",
    "dictListStudent = dict(list_list)\n",
    "print(dictListStudent)\n",
    "\n",
    "list_tuple = [(\"Name\",\"Rudi\"), (\"Address\",\"Bogor\")]\n",
    "dictTupleStudent = dict(list_tuple)\n",
    "print(dictTupleStudent)\n",
    "\n",
    "tuple_list = ([\"Name\",\"Tiger\"],[\"Type\",\"Mamalia\"])\n",
    "dictListAnimal = dict(tuple_list)\n",
    "print(dictListAnimal)\n",
    "\n",
    "tuple_tuple = ((\"Name\", \"Crocodile\"),(\"Type\",\"Reptile\"))\n",
    "dictTupleAnimal = dict(tuple_tuple)\n",
    "print(dictTupleAnimal)\n",
    "\n",
    "keys = [\"Vehicle\",\"Brand\",\"cc\"]\n",
    "values = [\"Car\",\"BMW\",\"2500\"]\n",
    "car = dict(zip(keys,values))\n",
    "print(car)\n"
   ]
  }
 ],
 "metadata": {
  "kernelspec": {
   "display_name": "Python [conda env:base] *",
   "language": "python",
   "name": "conda-base-py"
  },
  "language_info": {
   "codemirror_mode": {
    "name": "ipython",
    "version": 3
   },
   "file_extension": ".py",
   "mimetype": "text/x-python",
   "name": "python",
   "nbconvert_exporter": "python",
   "pygments_lexer": "ipython3",
   "version": "3.12.7"
  }
 },
 "nbformat": 4,
 "nbformat_minor": 5
}
