{
 "cells": [
  {
   "cell_type": "code",
   "execution_count": null,
   "id": "78ed3115-6ad3-41c3-856f-de88a4e547ba",
   "metadata": {},
   "outputs": [],
   "source": [
    "#Fungsi Tanpa parameter\n",
    "import datetime\n",
    "def showDate():\n",
    "    today = datetime.date.today()\n",
    "    print(f\"Sekarang Tanggal: {today}\")\n",
    "\n",
    "def isWeekday():\n",
    "    week = datetime.date.today().weekday()\n",
    "    if week >=5:\n",
    "        print(f\"Sekarang adalah Weekend\")\n",
    "    else:\n",
    "        print(f\"Sekarang saatnya bekerja\")"
   ]
  },
  {
   "cell_type": "code",
   "execution_count": null,
   "id": "f458d741-751f-47cc-8cae-ae33f7d2422d",
   "metadata": {},
   "outputs": [],
   "source": [
    "#Fungsi dengan PAramete\n",
    "def getFullName(first,middle,last):\n",
    "    return f\"Welcome, {first} {middle} {last}, S.Kom\" `"
   ]
  },
  {
   "cell_type": "code",
   "execution_count": null,
   "id": "7ae90891-572b-4655-a15e-3f14957449ce",
   "metadata": {},
   "outputs": [],
   "source": [
    "#Fungsi dengan Parameter Aritmatika\n",
    "def addNumber (num1,num2):\n",
    "    return num1 + num2\n",
    "\n",
    "def multiplyNumber(num1,num2):\n",
    "    return num1 * num2\n",
    "\n",
    "def addMulNumber(num1,num2):\n",
    "    add = num1 + num2\n",
    "    mul = num1 * num2\n",
    "    return add,mul\n",
    "    \n",
    "bil1 = int(input(\"Isikan Bilangan 1:\"))\n",
    "bil2 = int(input(\"Isikan Biangan 2:\"))\n",
    "r1 = addNumber(bil1,bil2)\n",
    "r2 = multiplyNumber(bil1,bil2)\n",
    "r3 = addNumber(r1,r2)\n",
    "add,mul = addMulNumber(bil1,bil2)\n",
    "print(f\"Hasil Penjumlahan {bil1} dan {bil2}: {r1}\")\n",
    "print(f\"Hasil Perkalian {bil1} dan {bil2}: {r2}\")\n",
    "print(f\"Hasil Penjummlahan {r1} dan {r2}: {r3}\")\n",
    "print(f\"Hasil Penjumlahan {bil1} dan {bil2}:{add}\")\n",
    "print(f\"hasil Perkalian {bil1}dan {bil2}:{mul}\")"
   ]
  },
  {
   "cell_type": "code",
   "execution_count": null,
   "id": "e540bcbd-7578-4492-af08-1739376810f8",
   "metadata": {},
   "outputs": [],
   "source": [
    "#Fungsi Dengan Nilai Default\n",
    "def daftarRekening(no_ktp, nama, saldo=100000):\n",
    "    ket = f\"Akun Berhasil dibuat : \\n\"\n",
    "    ket += f\"No KTP: {no_ktp}\\n\"\n",
    "    ket += f\"Nama : {nama}\"\n",
    "    ket += f\"Saldo awal : {saldo}\"\n",
    "    return ket\n",
    "def userRegistration(username, password, nama, status=False, role=\"user\"):\n",
    "    print(f\"Proses Registrasi Berhasil!!\")\n",
    "    print(f\"Username : {username}\")\n",
    "    print(f\"Nama : {nama}\")\n",
    "    print(f\"Status : {status}\")\n",
    "    print(f\"Hak Akses : {role}\")\n",
    "    \n",
    "showDate()\n",
    "isWeekday()\n",
    "print(getFullName (\"Andi\",\"\",\"Raharja\"))\n",
    "print(daftarRekening(\"12345678910111213\", \"Rudi\"))\n",
    "userRegistration(\"Adi\",\"125436789716\", \"Adi\")\n",
    "userRegistration(\"Adi\",\"125436789716\", \"Adi\",True,\"admin\")\n",
    "userRegistration(\"Adi\",\"125436789716\", \"Adi\", role = \"admin\")"
   ]
  },
  {
   "cell_type": "code",
   "execution_count": null,
   "id": "d6f0a4de-286e-4b8c-ba4f-8e1a09b050b0",
   "metadata": {},
   "outputs": [],
   "source": [
    "#Function dengan argumen dan keyword argumen -> * dan **\n",
    "def printData(*args, **kwargs):\n",
    "    print(\"Args :\", args)\n",
    "    print(\"KWargs : \", kwargs)\n",
    "    return args,kwargs\n",
    "args,kwargs = printData(\"Januari\",\"Februari\", \"Maret\", nama=\"BUdi\", Umur=21,alamat=\"Bandung\")\n",
    "for i in args:\n",
    "    print(i)\n",
    "for item in kwargs.items():\n",
    "    print(item[1])\n",
    "\n",
    "#buatlah dungsi untuk penjumlahan dengan jumlah parameter bebas\n",
    "def addNumbers(*numbers):\n",
    "    total = 0\n",
    "    for i in numbers:\n",
    "        total += int(i)\n",
    "    return total \n",
    "\n",
    "print(f\"total Jumlah : {addNumbers(1,2,3)}\")\n",
    "print(f\"Total Jumlah : {addNumbers(1,2,3,4,5)}\")"
   ]
  }
 ],
 "metadata": {
  "kernelspec": {
   "display_name": "Python [conda env:base] *",
   "language": "python",
   "name": "conda-base-py"
  },
  "language_info": {
   "codemirror_mode": {
    "name": "ipython",
    "version": 3
   },
   "file_extension": ".py",
   "mimetype": "text/x-python",
   "name": "python",
   "nbconvert_exporter": "python",
   "pygments_lexer": "ipython3",
   "version": "3.12.7"
  }
 },
 "nbformat": 4,
 "nbformat_minor": 5
}
