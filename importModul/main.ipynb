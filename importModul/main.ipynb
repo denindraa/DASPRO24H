{
 "cells": [
  {
   "cell_type": "code",
   "execution_count": 73,
   "id": "34112f0a-56b7-46c2-b6bd-f04c4d55cb92",
   "metadata": {},
   "outputs": [
    {
     "name": "stdout",
     "output_type": "stream",
     "text": [
      "60\n",
      "8\n",
      "24\n"
     ]
    }
   ],
   "source": [
    "import aritmathic.math as m\n",
    "\n",
    "print(m.add(10, 20, 30))\n",
    "print(m.pow(2, 3))\n",
    "print(m.multiply(1, 2, 3, 4))"
   ]
  },
  {
   "cell_type": "code",
   "execution_count": null,
   "id": "cdd80db6-056f-4112-9ac8-55bd8808bb2f",
   "metadata": {},
   "outputs": [],
   "source": [
    "import convert.convert as c"
   ]
  },
  {
   "cell_type": "code",
   "execution_count": 28,
   "id": "d855da20-3ad6-409f-8c2c-b9bf30939f66",
   "metadata": {},
   "outputs": [
    {
     "name": "stdin",
     "output_type": "stream",
     "text": [
      "Isikan Panjang (cm): 10\n"
     ]
    },
    {
     "name": "stdout",
     "output_type": "stream",
     "text": [
      "Panjang Dalam Meter : 0.1 Meter\n"
     ]
    }
   ],
   "source": [
    "from convert.convert import cmToMeter as cm\n",
    "\n",
    "panjang = int(input(\"Isikan Panjang (cm):\"))\n",
    "print(f\"Panjang Dalam Meter : {cm(panjang)}\")"
   ]
  },
  {
   "cell_type": "code",
   "execution_count": null,
   "id": "029a98e4-b04b-48da-bfa8-91cd2839dd01",
   "metadata": {},
   "outputs": [],
   "source": [
    "import bilangan.bilangan as b"
   ]
  },
  {
   "cell_type": "code",
   "execution_count": null,
   "id": "ec595566-d0c3-4ad7-8356-07b618bfcf6a",
   "metadata": {},
   "outputs": [
    {
     "name": "stdout",
     "output_type": "stream",
     "text": [
      "\n",
      "    1. Aritmatika\n",
      "    2. Convert\n",
      "    3. Bilangan\n",
      "    4. Exit\n",
      "    \n"
     ]
    },
    {
     "name": "stdin",
     "output_type": "stream",
     "text": [
      "Isikan Pilihan:  2\n",
      "Isikan Panjang:  1000\n"
     ]
    },
    {
     "name": "stdout",
     "output_type": "stream",
     "text": [
      "1. cm ke meter\n",
      "2. meter ke cm\n"
     ]
    },
    {
     "name": "stdin",
     "output_type": "stream",
     "text": [
      "Pilih:  1\n"
     ]
    },
    {
     "name": "stdout",
     "output_type": "stream",
     "text": [
      "Hasil: 10.0 meter\n",
      "\n",
      "    1. Aritmatika\n",
      "    2. Convert\n",
      "    3. Bilangan\n",
      "    4. Exit\n",
      "    \n"
     ]
    }
   ],
   "source": [
    "def menuUtama():\n",
    "    print(\"\"\"\n",
    "    1. Aritmatika\n",
    "    2. Convert\n",
    "    3. Bilangan\n",
    "    4. Exit\n",
    "    \"\"\")\n",
    "\n",
    "def menuAritmatika():\n",
    "    print(\"\"\"\n",
    "    1. Add\n",
    "    2. Pow\n",
    "    3. Multiply\n",
    "    \"\"\")\n",
    "\n",
    "def menuConvert():\n",
    "    print(\"\"\"\n",
    "    1. cm To Meter\n",
    "    2. Meter To Cm\n",
    "    \"\"\")\n",
    "\n",
    "def menuBilangan():\n",
    "    print(\"\"\"\n",
    "    1. desimal Ke Biner\n",
    "    2. desimal Ke Oktal\n",
    "    3. desimal ke Hexadesimal\n",
    "    \"\"\")\n",
    "\n",
    "while True:\n",
    "    menuUtama()\n",
    "    pilihMenu = int(input(\"Isikan Pilihan: \"))\n",
    "    \n",
    "    if pilihMenu == 1:\n",
    "        menuAritmatika()\n",
    "        pilihAritmatika = int(input(\"Isikan Pilihan Aritmatika: \"))\n",
    "        b1 = int(input(\"Isikan bilangan 1 : \"))\n",
    "        b2 = int(input(\"Isikan bilangan 2 : \"))\n",
    "        if pilihAritmatika == 1:\n",
    "            print(m.add(b1, b2))\n",
    "        elif pilihAritmatika == 2:\n",
    "            print(m.pow(b1, b2))\n",
    "        elif pilihAritmatika == 3:\n",
    "            print(m.multiply(b1, b2))\n",
    "            break\n",
    "\n",
    "    elif pilihMenu == 2:\n",
    "        panjang = int(input(\"Isikan Panjang: \"))\n",
    "        print(\"1. cm ke meter\")\n",
    "        print(\"2. meter ke cm\")\n",
    "        pilihConvert = int(input(\"Pilih: \"))\n",
    "\n",
    "        if pilihConvert == 1:\n",
    "            print(\"Hasil:\", cmToMeter(panjang), \"meter\")\n",
    "        elif pilihConvert == 2:\n",
    "            print(\"Hasil:\", meterToCm(panjang), \"cm\")\n",
    "        else:\n",
    "            print(\"Pilihan tidak valid.\")\n",
    "\n",
    "    elif pilihMenu == 3:\n",
    "        menuBilangan()\n",
    "        pilihBilangan = int(input(\"Isikan Pilihan Ubah Bilangan: \"))\n",
    "        n = int(input(\"Isikan angka desimal : \"))\n",
    "        if pilihBilangan == 1:\n",
    "            print(b.desimalToBiner(n))\n",
    "        elif pilihBilangan == 2:\n",
    "            print(b.desimalToOktal(n))\n",
    "        elif pilihBilangan == 3:\n",
    "            print(b.desimalToHexadesimal(n))\n",
    "            break\n",
    "\n",
    "    elif pilihMenu == 4:\n",
    "        print(\"Thank You!!\")\n",
    "        break\n",
    "\n"
   ]
  }
 ],
 "metadata": {
  "kernelspec": {
   "display_name": "Python [conda env:base] *",
   "language": "python",
   "name": "conda-base-py"
  },
  "language_info": {
   "codemirror_mode": {
    "name": "ipython",
    "version": 3
   },
   "file_extension": ".py",
   "mimetype": "text/x-python",
   "name": "python",
   "nbconvert_exporter": "python",
   "pygments_lexer": "ipython3",
   "version": "3.12.7"
  }
 },
 "nbformat": 4,
 "nbformat_minor": 5
}
