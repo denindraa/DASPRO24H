{
 "cells": [
  {
   "cell_type": "code",
   "execution_count": 31,
   "id": "7f8fae3d-bc51-454b-9e06-5c04bf8e9fd1",
   "metadata": {},
   "outputs": [
    {
     "name": "stdout",
     "output_type": "stream",
     "text": [
      "onana is very handsome\n",
      "4\n"
     ]
    },
    {
     "data": {
      "text/plain": [
       "30"
      ]
     },
     "execution_count": 31,
     "metadata": {},
     "output_type": "execute_result"
    }
   ],
   "source": [
    "# this is comment\n",
    "print(\"onana is very handsome\")\n",
    "data = 4\n",
    "print (data)\n",
    "data\n",
    "3*10"
   ]
  },
  {
   "cell_type": "markdown",
   "id": "227430de-de0a-45d6-9a7b-f0950884a33b",
   "metadata": {},
   "source": [
    "Cara menambahkan <b>cell<b/> terbagi menjadi 2:\n",
    "<ul>\n",
    "    <li> -(Above) Menambah diatas cell aktif</li>\n",
    "    <li> -(Below) Menambah dibawah cell aktif</li>\n",
    "</ul>\n",
    "\n",
    "<table>\n",
    "    <tr>\n",
    "        <td>Perintah</td>\n",
    "        <td>Keterangan</td>\n",
    "    </tr>\n",
    "    <tr>\n",
    "        <td>ctrl + enter</td>\n",
    "        <td>Running program dengan fokus di cell aktif</td>\n",
    "    </tr>\n",
    "    <tr>\n",
    "        <td>shift + enter</td>\n",
    "        <td>running program dengan fokus di cell berikutnya</td>\n",
    "    </tr>\n",
    "    \n",
    "</table>\n",
    "\n"
   ]
  },
  {
   "cell_type": "markdown",
   "id": "a45d3483-6061-48fa-b3e1-615cf22baa70",
   "metadata": {},
   "source": [
    "<img src=\"https://static.promediateknologi.id/crop/0x0:0x0/0x0/webp/photo/p2/98/2024/11/25/2024-11-03T164813Z_516028322_UP1EKB31AOBHO_RTRMADP_3_SOCCER-ENGLAND-MUN-CHE-REPORTJPG-633396016.jpg\" widht=\"200\"></center><br>\n",
    "Pada jupyter notebooks jenis <b>cell<b> terbagi menjadi\n",
    "<ol>\n",
    "    <li>M (Mark Down) -> M</li>\n",
    "    <li>Y (Code) -> Y</li>\n",
    "</ol>\n",
    "<hr>"
   ]
  }
 ],
 "metadata": {
  "kernelspec": {
   "display_name": "Python [conda env:base] *",
   "language": "python",
   "name": "conda-base-py"
  },
  "language_info": {
   "codemirror_mode": {
    "name": "ipython",
    "version": 3
   },
   "file_extension": ".py",
   "mimetype": "text/x-python",
   "name": "python",
   "nbconvert_exporter": "python",
   "pygments_lexer": "ipython3",
   "version": "3.12.7"
  }
 },
 "nbformat": 4,
 "nbformat_minor": 5
}
