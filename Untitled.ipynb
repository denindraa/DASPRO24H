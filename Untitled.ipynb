{
 "cells": [
  {
   "cell_type": "markdown",
   "id": "e06f80fa-a567-4880-9373-573f72ece27d",
   "metadata": {},
   "source": [
    "# N"
   ]
  },
  {
   "cell_type": "code",
   "execution_count": 31,
   "id": "3acd4907-08d6-4be7-834e-df2943c83479",
   "metadata": {},
   "outputs": [
    {
     "name": "stdin",
     "output_type": "stream",
     "text": [
      "Masukan Jumlah Kolak: 2\n",
      "Masukan Jumlah sayur: 2\n",
      "Masukan Jumlah beras: 2\n"
     ]
    },
    {
     "name": "stdout",
     "output_type": "stream",
     "text": [
      "Kolak 30000 300000\n",
      "Sayur 40000 40000\n",
      "Beras 40000 40000\n",
      "==============\n",
      "Total Belanja: 380000\n",
      "totalDiscount : 5% dari 380000 = 19000.0\n",
      "totalBayar: 361000.0\n"
     ]
    }
   ],
   "source": [
    "kolak = int(input(\"Masukan Jumlah Kolak:\"))\n",
    "sayur = int(input(\"Masukan Jumlah sayur:\"))\n",
    "beras = int(input(\"Masukan Jumlah beras:\"))\n",
    "\n",
    "totalKolak = kolak * 150000\n",
    "totalSayur = sayur * 20000\n",
    "totalBeras = beras * 20000\n",
    "\n",
    "print(\"Kolak\",kolak * 15000,totalKolak)\n",
    "print(\"Sayur\",sayur * 20000,totalSayur)\n",
    "print(\"Beras\",beras * 20000,totalBeras)\n",
    "print(\"==============\")\n",
    "totalBelanja = totalKolak + totalSayur + totalBeras\n",
    "print(\"Total Belanja:\",totalBelanja)\n",
    "discount = 5 if totalBelanja > 25000 else 0\n",
    "totalDiscount = totalBelanja * (discount / 100)\n",
    "print(f\"totalDiscount : {discount}% dari {totalBelanja} = {totalDiscount}\")\n",
    "\n",
    "totalBayar = totalBelanja - totalDiscount\n",
    "print(f\"totalBayar: {totalBayar}\")"
   ]
  },
  {
   "cell_type": "code",
   "execution_count": 45,
   "id": "68246fc0-e6df-463e-98ba-ac3677f29d62",
   "metadata": {},
   "outputs": [
    {
     "name": "stdin",
     "output_type": "stream",
     "text": [
      "Masukan Nilai Andi : 90\n",
      "Masukan Nilai Asep : 10\n",
      "Masukan Nilai Andang : 80\n",
      "Masukan Nilai Toto : 45\n",
      "Masukan Nilai Tata : 22\n"
     ]
    },
    {
     "name": "stdout",
     "output_type": "stream",
     "text": [
      "Rata-rata nilai: 49.4\n",
      "Hasil: Dinyatakan Tidak Lulus\n"
     ]
    }
   ],
   "source": [
    "nilaiAndi = int(input(\"Masukan Nilai Andi :\"))\n",
    "nilaiAsep = int(input(\"Masukan Nilai Asep :\"))\n",
    "nilaiAndang = int(input(\"Masukan Nilai Andang :\"))\n",
    "nilaiToto = int(input(\"Masukan Nilai Toto :\"))\n",
    "nilaiTata = int(input(\"Masukan Nilai Tata :\"))\n",
    "rataRata = (nilaiAndi + nilaiAsep + nilaiAndang + nilaiToto + nilaiTata) / 5\n",
    "hasilNilai = \"Dinyatakan Lulus\" if rataRata > 75 else \"Dinyatakan Tidak Lulus\"\n",
    "print(f\"Rata-rata nilai: {rataRata}\")\n",
    "print(f\"Hasil: {hasilNilai}\")"
   ]
  }
 ],
 "metadata": {
  "kernelspec": {
   "display_name": "Python [conda env:base] *",
   "language": "python",
   "name": "conda-base-py"
  },
  "language_info": {
   "codemirror_mode": {
    "name": "ipython",
    "version": 3
   },
   "file_extension": ".py",
   "mimetype": "text/x-python",
   "name": "python",
   "nbconvert_exporter": "python",
   "pygments_lexer": "ipython3",
   "version": "3.12.7"
  }
 },
 "nbformat": 4,
 "nbformat_minor": 5
}
