{
 "cells": [
  {
   "cell_type": "code",
   "execution_count": 114,
   "id": "1eb5cc16-d6ea-4aa4-b54a-eb30b61dec43",
   "metadata": {},
   "outputs": [],
   "source": [
    "import numpy as np"
   ]
  },
  {
   "cell_type": "code",
   "execution_count": 115,
   "id": "4cbb9fe8-b4e1-4d29-b4df-e5c8cbc8132f",
   "metadata": {},
   "outputs": [],
   "source": [
    "mat1D = np.array([1,2,3,4,5,6,7,8,9])\n",
    "mat2D = np.array([[1,2,3],[4,5,6],[7,8,9],[10,11,12]])\n",
    "mat2D10 = mat2D * 10"
   ]
  },
  {
   "cell_type": "code",
   "execution_count": 116,
   "id": "1e88c477-6806-4406-a984-770aa13fc963",
   "metadata": {},
   "outputs": [
    {
     "name": "stdout",
     "output_type": "stream",
     "text": [
      "Matriks 1D :\n",
      " [1 2 3 4 5 6 7 8 9]\n",
      "Matriks 1D index ke 7:8\n",
      "Matriks 1D * 10 : [10 20 30 40 50 60 70 80 90]\n"
     ]
    }
   ],
   "source": [
    "print(f\"Matriks 1D :\\n {mat1D}\")\n",
    "print(f\"Matriks 1D index ke 7:{mat1D[7]}\")\n",
    "print(f\"Matriks 1D * 10 : {mat1D * 10}\")"
   ]
  },
  {
   "cell_type": "code",
   "execution_count": 117,
   "id": "18574fa2-561b-47a6-9d18-22023a58bd92",
   "metadata": {},
   "outputs": [
    {
     "name": "stdout",
     "output_type": "stream",
     "text": [
      "Matriks 2D:\n",
      "[[ 1  2  3]\n",
      " [ 4  5  6]\n",
      " [ 7  8  9]\n",
      " [10 11 12]]\n",
      "Matriks 2D * 10 :\n",
      "[[ 10  20  30]\n",
      " [ 40  50  60]\n",
      " [ 70  80  90]\n",
      " [100 110 120]]\n",
      "[10 20 30]\n",
      "30\n"
     ]
    }
   ],
   "source": [
    "print(f\"Matriks 2D:\\n{mat2D}\")\n",
    "print(f\"Matriks 2D * 10 :\\n{mat2D * 10}\")\n",
    "print(mat2D10[0])\n",
    "print(mat2D10[0][2])"
   ]
  },
  {
   "cell_type": "code",
   "execution_count": 118,
   "id": "c5a27131-09dd-43b3-9af0-bf80c74b3407",
   "metadata": {},
   "outputs": [
    {
     "name": "stdout",
     "output_type": "stream",
     "text": [
      "(9,)\n",
      "(4, 3)\n"
     ]
    }
   ],
   "source": [
    "print(mat1D.shape)\n",
    "print(mat2D.shape)"
   ]
  },
  {
   "cell_type": "code",
   "execution_count": 119,
   "id": "5fa78e35-774f-4320-9487-38100ed6d2f0",
   "metadata": {},
   "outputs": [
    {
     "name": "stdout",
     "output_type": "stream",
     "text": [
      "Ukuran dari mat1D :9\n",
      "Ukuran dari mat2D :12\n"
     ]
    }
   ],
   "source": [
    "print(f\"Ukuran dari mat1D :{mat1D.size}\")\n",
    "print(f\"Ukuran dari mat2D :{mat2D.size}\")"
   ]
  },
  {
   "cell_type": "code",
   "execution_count": 150,
   "id": "b3586405-fe51-49dd-b08a-695b4ae6e30c",
   "metadata": {},
   "outputs": [
    {
     "name": "stdout",
     "output_type": "stream",
     "text": [
      "Matriks mZero :\n",
      "[[0. 0. 0.]\n",
      " [0. 0. 0.]\n",
      " [0. 0. 0.]]\n",
      "Matriks mOne :\n",
      "[[1. 1. 1.]\n",
      " [1. 1. 1.]\n",
      " [1. 1. 1.]]\n",
      "Matriks mFull :\n",
      "[[7 7 7 7]\n",
      " [7 7 7 7]\n",
      " [7 7 7 7]\n",
      " [7 7 7 7]]\n",
      "Matriks Identitas:\n",
      "[[1. 0. 0. 0.]\n",
      " [0. 1. 0. 0.]\n",
      " [0. 0. 1. 0.]\n",
      " [0. 0. 0. 1.]]\n",
      "Matriks mFRandom1D:\n",
      "[0.64624117 0.07618324 0.37612807 0.03903807 0.69039562]\n",
      "Matriks mFRandom2D:\n",
      "[[0.73321946 0.63326025 0.56041728]\n",
      " [0.10050495 0.06391388 0.675371  ]\n",
      " [0.12778075 0.67598688 0.69436407]]\n",
      "Matriks mIRandom1D:\n",
      "[56 56 86 51 51]\n",
      "Matriks mIRandom2D:\n",
      "[[50 35 22 94]\n",
      " [28 30 47 86]\n",
      " [29 84 97 60]\n",
      " [10 49 12 28]]\n"
     ]
    }
   ],
   "source": [
    "#Spesial matrix\n",
    "mZero = np.zeros((3,3))\n",
    "mOne = np.ones((3,3))\n",
    "mFull = np.full((4,4),7) #Membuat array dengan ukuran 4*4 dengan diisi nilai 7\n",
    "mIdentity = np.eye((4))\n",
    "mFRandom1D = np.random.rand(5)\n",
    "mFRandom2D = np.random.rand(3,3)\n",
    "mIRandom1D = np.random.randint(10,100,size=5)\n",
    "mIRandom2D = np.random.randint(10,100,size=(4,4))\n",
    "\n",
    "print(f\"Matriks mZero :\\n{mZero}\")\n",
    "print(f\"Matriks mOne :\\n{mOne}\")\n",
    "print(f\"Matriks mFull :\\n{mFull}\")\n",
    "print(f\"Matriks Identitas:\\n{mIdentity}\")\n",
    "print(f\"Matriks mFRandom1D:\\n{mFRandom1D}\")\n",
    "print(f\"Matriks mFRandom2D:\\n{mFRandom2D}\")\n",
    "print(f\"Matriks mIRandom1D:\\n{mIRandom1D}\")\n",
    "print(f\"Matriks mIRandom2D:\\n{mIRandom2D}\")"
   ]
  },
  {
   "cell_type": "code",
   "execution_count": 160,
   "id": "8ba9a449-c988-4ee4-9f7b-d09e16e80a8e",
   "metadata": {},
   "outputs": [
    {
     "name": "stdout",
     "output_type": "stream",
     "text": [
      "Maatriks data:\n",
      "[[1 2 3]\n",
      " [4 5 6]\n",
      " [7 8 9]]\n",
      "Matriks reshape:\n",
      " [[1]\n",
      " [2]\n",
      " [3]\n",
      " [4]\n",
      " [5]\n",
      " [6]\n",
      " [7]\n",
      " [8]\n",
      " [9]]\n",
      "Matriks mFlate:\n",
      " [1 2 3 4 5 6 7 8 9]\n"
     ]
    }
   ],
   "source": [
    "#Mengubah bentuk array\n",
    "data = np.array([[1,2,3],[4,5,6],[7,8,9]])\n",
    "mshape = data.reshape((9,1))\n",
    "mFlat = data.flatten()\n",
    "\n",
    "print(f\"Maatriks data:\\n{data}\")\n",
    "print(f\"Matriks reshape:\\n {mshape}\")\n",
    "print(f\"Matriks mFlate:\\n {mFlat}\")"
   ]
  },
  {
   "cell_type": "code",
   "execution_count": 180,
   "id": "3dd0e077-8561-4df1-bd0d-f79479e21aca",
   "metadata": {},
   "outputs": [
    {
     "name": "stdout",
     "output_type": "stream",
     "text": [
      "Hasil dari dot product:69\n",
      "Hasil penjumlahan matriks:\n",
      "[ 3  7 10 13]\n",
      "Nilai minimum :2\n",
      "Nilai maksimum :9\n",
      "Nilai rata rata :5.75\n",
      "Nilai Total adalah :23\n",
      "Nilai Deviasi :2.5860201081971503\n"
     ]
    }
   ],
   "source": [
    "#Deskriptif Statistik\n",
    "x = np.array([1,2,3,4])\n",
    "y = np.array([2,5,7,9])\n",
    "\n",
    "#Menghitung dot product\n",
    "r1 = np.dot(x,y)\n",
    "r2 = np.add(x,y)\n",
    "\n",
    "print(f\"Hasil dari dot product:{r1}\")\n",
    "print(f\"Hasil penjumlahan matriks:\\n{r2}\")\n",
    "print(f\"Nilai minimum :{y.min()}\")\n",
    "print(f\"Nilai maksimum :{y.max()}\")\n",
    "print(f\"Nilai rata rata :{y.mean()}\")\n",
    "print(f\"Nilai Total adalah :{y.sum()}\")\n",
    "print(f\"Nilai Deviasi :{y.std()}\")"
   ]
  },
  {
   "cell_type": "code",
   "execution_count": 200,
   "id": "510da26a-e3eb-48fc-accc-4171d83bf071",
   "metadata": {},
   "outputs": [
    {
     "name": "stdout",
     "output_type": "stream",
     "text": [
      "[100  90 100  80]\n",
      "Mahasiswa yang lulus sebanyak :4\n",
      "Mahasiswa yang tidak lulus sebanyak :4\n"
     ]
    }
   ],
   "source": [
    "#Filtering\n",
    "\n",
    "nilaiPemograman = np.array([100,90,100,80,50,50,50,40])\n",
    "#Tampilkan Nilai Pemograman yang lebih dari 50 -> LULUS\n",
    "#Berapakah jumlah mahasiswa yang lulus\n",
    "jmlLulus = nilaiPemograman [nilaiPemograman > 50]\n",
    "print(jmlLulus)\n",
    "print(f\"Mahasiswa yang lulus sebanyak :{jmlLulus.size}\")\n",
    "print(f\"Mahasiswa yang tidak lulus sebanyak :{nilaiPemograman.size-jmlLulus.size}\")\n"
   ]
  },
  {
   "cell_type": "markdown",
   "id": "ae49d943-8199-4f76-a7b2-5251114ded15",
   "metadata": {},
   "source": [
    "<b>Project Generate Data</b> <br>\n",
    "Buatlah 1000 Data, yang akan digunakan untuk prediksi atau klasifikasi yaitu\n",
    "<ol>\n",
    "    <li>Usia : 17 - 60</li>\n",
    "    <li>Gender : L/P</li>\n",
    "    <li>Transaksi perBulan : 0-50</li>\n",
    "    <li>Pembayaran: Buruk, Sedang, Bagus</li>\n",
    "</ol>"
   ]
  },
  {
   "cell_type": "code",
   "execution_count": 240,
   "id": "16574832-4b45-4081-b211-5389c87fe9d0",
   "metadata": {},
   "outputs": [
    {
     "name": "stdout",
     "output_type": "stream",
     "text": [
      "     usia gender  transaksi pembayaran\n",
      "0      37      L          9      Buruk\n",
      "1      27      L          9     Sedang\n",
      "2      41      P         35      Buruk\n",
      "3      60      L         33     Sedang\n",
      "4      43      L          1     Sedang\n",
      "..    ...    ...        ...        ...\n",
      "995    19      P         18      Buruk\n",
      "996    46      P          2      Buruk\n",
      "997    54      P         31      Bagus\n",
      "998    33      P          5      Bagus\n",
      "999    51      P          6     Sedang\n",
      "\n",
      "[1000 rows x 4 columns]\n",
      "<class 'pandas.core.frame.DataFrame'>\n",
      "RangeIndex: 1000 entries, 0 to 999\n",
      "Data columns (total 4 columns):\n",
      " #   Column      Non-Null Count  Dtype \n",
      "---  ------      --------------  ----- \n",
      " 0   usia        1000 non-null   int32 \n",
      " 1   gender      1000 non-null   object\n",
      " 2   transaksi   1000 non-null   int32 \n",
      " 3   pembayaran  1000 non-null   object\n",
      "dtypes: int32(2), object(2)\n",
      "memory usage: 23.6+ KB\n",
      "None\n",
      "   usia gender  transaksi pembayaran\n",
      "0    37      L          9      Buruk\n",
      "1    27      L          9     Sedang\n",
      "2    41      P         35      Buruk\n",
      "3    60      L         33     Sedang\n",
      "4    43      L          1     Sedang\n",
      "usia customer termuda:17\n",
      "usia customer tertua:60\n",
      "Jumlah Customer Laki-Laki: 496.0\n",
      "Jumlah Customer Laki-Laki:496\n"
     ]
    }
   ],
   "source": [
    "import numpy as np\n",
    "import pandas as pd\n",
    "jmlData = 1000\n",
    "\n",
    "usia = np.random.randint(17,61,size=jmlData)\n",
    "gender = np.random.choice(['L','P'],size=jmlData)\n",
    "transaksi = np.random.randint(0,51,size=jmlData)\n",
    "pembayaran = np.random.choice(['Buruk','Sedang','Bagus'],size=jmlData)\n",
    "\n",
    "df = pd.DataFrame({\n",
    "    'usia' : usia,\n",
    "    'gender' : gender,\n",
    "    'transaksi' : transaksi,\n",
    "    'pembayaran' : pembayaran\n",
    "})\n",
    "\n",
    "print(df)\n",
    "print(df.info()) #Menampilkan karakteristik data\n",
    "print(df.head()) #Menampilkan isi tabel 5 baris pertama\n",
    "#Tampilkan usia yang paling muda\n",
    "print(f\"usia customer termuda:{df['usia'].min()}\")\n",
    "print(f\"usia customer tertua:{df['usia'].max()}\")\n",
    "#Tanpilkan jumlah customer yang laki laki\n",
    "jmlL = df[df['gender']=='L']\n",
    "print(f\"Jumlah Customer Laki-Laki: {jmlL.size/4}\")\n",
    "print(f\"Jumlah Customer Laki-Laki:{jmlL['gender'].size}\")\n",
    "df.to_csv(\"dataCustomer.csv\")"
   ]
  }
 ],
 "metadata": {
  "kernelspec": {
   "display_name": "Python [conda env:base] *",
   "language": "python",
   "name": "conda-base-py"
  },
  "language_info": {
   "codemirror_mode": {
    "name": "ipython",
    "version": 3
   },
   "file_extension": ".py",
   "mimetype": "text/x-python",
   "name": "python",
   "nbconvert_exporter": "python",
   "pygments_lexer": "ipython3",
   "version": "3.12.7"
  }
 },
 "nbformat": 4,
 "nbformat_minor": 5
}
