{
 "cells": [
  {
   "cell_type": "code",
   "execution_count": 1,
   "id": "2d6db332-87db-464b-8dee-d393a483e5f2",
   "metadata": {},
   "outputs": [],
   "source": [
    "#Fungsi Tanpa parameter\n",
    "import datetime\n",
    "def showDate():\n",
    "    today = datetime.date.today()\n",
    "    print(f\"Sekarang Tanggal: {today}\")\n",
    "\n",
    "def isWeekday():\n",
    "    week = datetime.date.today().weekday()\n",
    "    if week >=5:\n",
    "        print(f\"Sekarang adalah Weekend\")\n",
    "    else:\n",
    "        print(f\"Sekarang saatnya bekerja\")"
   ]
  },
  {
   "cell_type": "code",
   "execution_count": 3,
   "id": "d92a423c-7586-4390-8c24-8f46127bee71",
   "metadata": {},
   "outputs": [],
   "source": [
    "#Fungsi dengan PAramete\n",
    "def getFullName(first,middle,last):\n",
    "    return f\"Welcome, {first} {middle} {last}, S.Kom\" "
   ]
  },
  {
   "cell_type": "code",
   "execution_count": 5,
   "id": "906151f7-bc28-4db3-ac7b-b0dbdfed0826",
   "metadata": {},
   "outputs": [
    {
     "name": "stdin",
     "output_type": "stream",
     "text": [
      "Isikan Bilangan 1: 10\n",
      "Isikan Biangan 2: 5\n"
     ]
    },
    {
     "name": "stdout",
     "output_type": "stream",
     "text": [
      "Hasil Penjumlahan 10 dan 5: 15\n",
      "Hasil Perkalian 10 dan 5: 50\n",
      "Hasil Penjummlahan 15 dan 50: 65\n",
      "Hasil Penjumlahan 10 dan 5:15\n",
      "hasil Perkalian 10dan 5:50\n"
     ]
    }
   ],
   "source": [
    "#Fungsi dengan Parameter Aritmatika\n",
    "def addNumber (num1,num2):\n",
    "    return num1 + num2\n",
    "\n",
    "def multiplyNumber(num1,num2):\n",
    "    return num1 * num2\n",
    "\n",
    "def addMulNumber(num1,num2):\n",
    "    add = num1 + num2\n",
    "    mul = num1 * num2\n",
    "    return add,mul\n",
    "    \n",
    "bil1 = int(input(\"Isikan Bilangan 1:\"))\n",
    "bil2 = int(input(\"Isikan Biangan 2:\"))\n",
    "r1 = addNumber(bil1,bil2)\n",
    "r2 = multiplyNumber(bil1,bil2)\n",
    "r3 = addNumber(r1,r2)\n",
    "add,mul = addMulNumber(bil1,bil2)\n",
    "print(f\"Hasil Penjumlahan {bil1} dan {bil2}: {r1}\")\n",
    "print(f\"Hasil Perkalian {bil1} dan {bil2}: {r2}\")\n",
    "print(f\"Hasil Penjummlahan {r1} dan {r2}: {r3}\")\n",
    "print(f\"Hasil Penjumlahan {bil1} dan {bil2}:{add}\")\n",
    "print(f\"hasil Perkalian {bil1}dan {bil2}:{mul}\")"
   ]
  },
  {
   "cell_type": "code",
   "execution_count": 7,
   "id": "813c3e8c-e579-4d80-b84e-a9f2e45c9450",
   "metadata": {},
   "outputs": [
    {
     "name": "stdout",
     "output_type": "stream",
     "text": [
      "Sekarang Tanggal: 2025-05-24\n",
      "Sekarang adalah Weekend\n",
      "Welcome, Andi  Raharja, S.Kom\n",
      "Akun Berhasil dibuat : \n",
      "No KTP: 12345678910111213\n",
      "Nama : RudiSaldo awal : 100000\n",
      "Proses Registrasi Berhasil!!\n",
      "Username : Adi\n",
      "Nama : Adi\n",
      "Status : False\n",
      "Hak Akses : user\n",
      "Proses Registrasi Berhasil!!\n",
      "Username : Adi\n",
      "Nama : Adi\n",
      "Status : True\n",
      "Hak Akses : admin\n",
      "Proses Registrasi Berhasil!!\n",
      "Username : Adi\n",
      "Nama : Adi\n",
      "Status : False\n",
      "Hak Akses : admin\n"
     ]
    }
   ],
   "source": [
    "#Fungsi Dengan Nilai Default\n",
    "def daftarRekening(no_ktp, nama, saldo=100000):\n",
    "    ket = f\"Akun Berhasil dibuat : \\n\"\n",
    "    ket += f\"No KTP: {no_ktp}\\n\"\n",
    "    ket += f\"Nama : {nama}\"\n",
    "    ket += f\"Saldo awal : {saldo}\"\n",
    "    return ket\n",
    "def userRegistration(username, password, nama, status=False, role=\"user\"):\n",
    "    print(f\"Proses Registrasi Berhasil!!\")\n",
    "    print(f\"Username : {username}\")\n",
    "    print(f\"Nama : {nama}\")\n",
    "    print(f\"Status : {status}\")\n",
    "    print(f\"Hak Akses : {role}\")\n",
    "    \n",
    "showDate()\n",
    "isWeekday()\n",
    "print(getFullName (\"Andi\",\"\",\"Raharja\"))\n",
    "print(daftarRekening(\"12345678910111213\", \"Rudi\"))\n",
    "userRegistration(\"Adi\",\"125436789716\", \"Adi\")\n",
    "userRegistration(\"Adi\",\"125436789716\", \"Adi\",True,\"admin\")\n",
    "userRegistration(\"Adi\",\"125436789716\", \"Adi\", role = \"admin\")"
   ]
  },
  {
   "cell_type": "code",
   "execution_count": 9,
   "id": "fbb074a4-7e7e-4c68-8035-0fc74f0f23b3",
   "metadata": {},
   "outputs": [
    {
     "name": "stdout",
     "output_type": "stream",
     "text": [
      "Args : ('Januari', 'Februari', 'Maret')\n",
      "KWargs :  {'nama': 'BUdi', 'Umur': 21, 'alamat': 'Bandung'}\n",
      "Januari\n",
      "Februari\n",
      "Maret\n",
      "BUdi\n",
      "21\n",
      "Bandung\n",
      "total Jumlah : 6\n",
      "Total Jumlah : 15\n"
     ]
    }
   ],
   "source": [
    "#Function dengan argumen dan keyword argumen -> * dan **\n",
    "def printData(*args, **kwargs):\n",
    "    print(\"Args :\", args)\n",
    "    print(\"KWargs : \", kwargs)\n",
    "    return args,kwargs\n",
    "args,kwargs = printData(\"Januari\",\"Februari\", \"Maret\", nama=\"BUdi\", Umur=21,alamat=\"Bandung\")\n",
    "for i in args:\n",
    "    print(i)\n",
    "for item in kwargs.items():\n",
    "    print(item[1])\n",
    "\n",
    "#buatlah dungsi untuk penjumlahan dengan jumlah parameter bebas\n",
    "def addNumbers(*numbers):\n",
    "    total = 0\n",
    "    for i in numbers:\n",
    "        total += int(i)\n",
    "    return total \n",
    "\n",
    "print(f\"total Jumlah : {addNumbers(1,2,3)}\")\n",
    "print(f\"Total Jumlah : {addNumbers(1,2,3,4,5)}\")\n"
   ]
  }
 ],
 "metadata": {
  "kernelspec": {
   "display_name": "Python [conda env:base] *",
   "language": "python",
   "name": "conda-base-py"
  },
  "language_info": {
   "codemirror_mode": {
    "name": "ipython",
    "version": 3
   },
   "file_extension": ".py",
   "mimetype": "text/x-python",
   "name": "python",
   "nbconvert_exporter": "python",
   "pygments_lexer": "ipython3",
   "version": "3.12.7"
  }
 },
 "nbformat": 4,
 "nbformat_minor": 5
}
