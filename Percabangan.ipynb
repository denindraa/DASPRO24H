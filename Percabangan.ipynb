{
 "cells": [
  {
   "cell_type": "markdown",
   "id": "5854a90d-e435-44ae-9e31-3bc520e011b1",
   "metadata": {
    "id": "5854a90d-e435-44ae-9e31-3bc520e011b1"
   },
   "source": [
    "Buatlah program yang meminta pengguna memasukkan usia seseorang, lalu tentukan apakah dia <br>\n",
    "anak-anak (0-12 tahun), remaja (13-17 tahun), dewasa (18-59 tahun), atau lansia (60 tahun ke atas)."
   ]
  },
  {
   "cell_type": "code",
   "execution_count": 1,
   "id": "75a2fdcd-1ef1-45e4-9d79-c6a7cb708a18",
   "metadata": {
    "id": "75a2fdcd-1ef1-45e4-9d79-c6a7cb708a18"
   },
   "outputs": [
    {
     "name": "stdin",
     "output_type": "stream",
     "text": [
      "Masukkan usia:  20\n"
     ]
    },
    {
     "name": "stdout",
     "output_type": "stream",
     "text": [
      "Anda termasuk dalam kategori: Dewasa\n"
     ]
    }
   ],
   "source": [
    "# Meminta pengguna memasukkan usia\n",
    "usia = int(input(\"Masukkan usia: \"))\n",
    "if 0 <= usia <= 12:\n",
    "    kategori = \"Anak-anak\"\n",
    "elif 13 <= usia <= 17:\n",
    "    kategori = \"Remaja\"\n",
    "elif 18 <= usia <= 59:\n",
    "    kategori = \"Dewasa\"\n",
    "elif usia >= 60:\n",
    "    kategori = \"Lansia\"\n",
    "else:\n",
    "    kategori = \"Usia tidak valid\"\n",
    "print(f\"Anda termasuk dalam kategori: {kategori}\")\n"
   ]
  },
  {
   "cell_type": "markdown",
   "id": "68c95835-e4ad-4bd0-89ca-168200893cf7",
   "metadata": {
    "id": "68c95835-e4ad-4bd0-89ca-168200893cf7"
   },
   "source": [
    "Sebuah taman hiburan memiliki aturan harga tiket berdasarkan usia:\n",
    "<ol>\n",
    "<li>Anak-anak (0-12 tahun): Rp 10.000</li>\n",
    "<li>Remaja (13-17 tahun): Rp 15.000</li>\n",
    "<li>Dewasa (18-59 tahun): Rp 25.000</li>\n",
    "<li>Lansia (60 tahun ke atas): Gratis</li>\n",
    "</ol>\n",
    "Buat program untuk menentukan harga tiket berdasarkan usia yang dimasukkan pengguna dan total harga yang harus dibayar, jika terdapat 3 input seperti berikut ini"
   ]
  },
  {
   "cell_type": "code",
   "execution_count": 1,
   "id": "66ee699f-8355-48e0-939a-dcc73ba4425b",
   "metadata": {
    "id": "66ee699f-8355-48e0-939a-dcc73ba4425b"
   },
   "outputs": [
    {
     "name": "stdin",
     "output_type": "stream",
     "text": [
      "Isikan Umur Tiket 1: 12\n",
      "Isikan Umur Tiket 2:  13\n",
      "Isikan Umur Tiket 3:  20\n"
     ]
    },
    {
     "name": "stdout",
     "output_type": "stream",
     "text": [
      "Total Harga Yang Harus di Bayar : Rp 50000\n"
     ]
    }
   ],
   "source": [
    "tiket1 = int(input(\"Isikan Umur Tiket 1:\"))\n",
    "tiket2 = int(input(\"Isikan Umur Tiket 2: \"))\n",
    "tiket3 = int(input(\"Isikan Umur Tiket 3: \"))\n",
    "\n",
    "def harga_tiket(usia):\n",
    "    if 0 <= usia <= 12:\n",
    "        return 10000\n",
    "    elif 12 <= usia <= 17:\n",
    "        return 15000\n",
    "    elif 18 <= usia <= 59:\n",
    "        return 25000\n",
    "    elif usia >= 60:\n",
    "        return 0\n",
    "    else:\n",
    "        return 0\n",
    "\n",
    "totalHarga = harga_tiket(tiket1) + harga_tiket(tiket2) + harga_tiket(tiket3)\n",
    "print(f\"Total Harga Yang Harus di Bayar : Rp {totalHarga}\")\n",
    "\n",
    "\n",
    "\n",
    "\n",
    "\n",
    "\n",
    "# add code here ..."
   ]
  },
  {
   "cell_type": "markdown",
   "id": "82eac646-d930-42f5-a253-03f84c32f943",
   "metadata": {
    "id": "82eac646-d930-42f5-a253-03f84c32f943"
   },
   "source": [
    "Sebuah restoran memiliki diskon khusus:\n",
    "Anak-anak (0-12 tahun) diskon 50%\n",
    "Lansia (60 tahun ke atas) diskon 30%\n",
    "Selain itu, tidak ada diskon\n",
    "Buat program untuk menghitung harga yang harus dibayar setelah diskon diberikan."
   ]
  },
  {
   "cell_type": "code",
   "execution_count": 25,
   "id": "feb31fca-fce6-4e5f-a25f-8752e7a0033b",
   "metadata": {
    "id": "feb31fca-fce6-4e5f-a25f-8752e7a0033b"
   },
   "outputs": [
    {
     "name": "stdin",
     "output_type": "stream",
     "text": [
      "Masukkan harga makanan:  90000\n",
      "Masukkan usia pelanggan:  65\n"
     ]
    },
    {
     "name": "stdout",
     "output_type": "stream",
     "text": [
      "Harga yang harus dibayar setelah diskon: Rp 63000\n"
     ]
    }
   ],
   "source": [
    "harga_awal = float(input(\"Masukkan harga makanan: \"))\n",
    "usia = int(input(\"Masukkan usia pelanggan: \"))\n",
    "\n",
    "\n",
    "def hitung_harga_setelah_diskon(harga_awal, usia):\n",
    "    if 0 <= usia <= 12:\n",
    "        diskon = 0.50  \n",
    "    elif usia >= 60:\n",
    "        diskon = 0.30  \n",
    "    else:\n",
    "        diskon = 0  \n",
    "    \n",
    "    harga_setelah_diskon = harga_awal - (harga_awal * diskon)\n",
    "    return int(harga_setelah_diskon)  \n",
    "harga_akhir = hitung_harga_setelah_diskon(harga_awal, usia)\n",
    "\n",
    "print(f\"Harga yang harus dibayar setelah diskon: Rp {harga_akhir}\")\n"
   ]
  },
  {
   "cell_type": "markdown",
   "id": "aee8bab3-9bf1-4732-97e1-7abb32ce7184",
   "metadata": {
    "id": "aee8bab3-9bf1-4732-97e1-7abb32ce7184"
   },
   "source": [
    "Program beasiswa:\n",
    "<ol>\n",
    "<li>Jika nilai rapor ≥ 90 dan penghasilan orang tua < Rp 5.000.000 → Beasiswa Penuh</li>\n",
    "<li>Jika nilai rapor ≥ 85 dan penghasilan orang tua < Rp 8.000.000 → Beasiswa 50%</li>\n",
    "<li>Jika tidak memenuhi syarat di atas → Tidak mendapatkan beasiswa</li>\n",
    "</ol>"
   ]
  },
  {
   "cell_type": "code",
   "execution_count": 1,
   "id": "55a9ec4f-531b-4326-bca3-e0d19b4be47d",
   "metadata": {
    "id": "55a9ec4f-531b-4326-bca3-e0d19b4be47d"
   },
   "outputs": [
    {
     "name": "stdin",
     "output_type": "stream",
     "text": [
      "Masukan Nilai Rapot : 99\n",
      "Masukan Penghasilan : 2500000\n"
     ]
    },
    {
     "name": "stdout",
     "output_type": "stream",
     "text": [
      "Hasil Beasiswa :Beasiswa Penuh\n"
     ]
    }
   ],
   "source": [
    "nilai_rapot = float(input(\"Masukan Nilai Rapot :\" ))\n",
    "penghasilan = int(input(\"Masukan Penghasilan :\"))\n",
    "\n",
    "def Beasiswa(nilai_rapot, penghasilan):\n",
    "    if nilai_rapot >= 90 and penghasilan < 5000000:\n",
    "        return \"Beasiswa Penuh\"\n",
    "    elif nilai_rapot >= 90 and penghasilan < 8000000:\n",
    "        return \"Beasiswa 50%\"\n",
    "    else:\n",
    "        return \"Anda Tidak Mendapatkan Beasiswa\"\n",
    "\n",
    "hasil_beasiswa = Beasiswa(nilai_rapot, penghasilan)\n",
    "print(f\"Hasil Beasiswa :{hasil_beasiswa}\")\n"
   ]
  },
  {
   "cell_type": "markdown",
   "id": "57ea9062-e1af-4650-8eab-a47a01a9d04f",
   "metadata": {
    "id": "57ea9062-e1af-4650-8eab-a47a01a9d04f"
   },
   "source": [
    "Suatu aplikasi streaming memiliki batasan usia:\n",
    "<ol>\n",
    "<li>Film Semua Umur: Bisa ditonton oleh siapa saja</li>\n",
    "<li>Film Remaja: Hanya untuk usia ≥ 13 tahun</li>\n",
    "<li>Film Dewasa: Hanya untuk usia ≥ 18 tahun</li>\n",
    "</ol>\n",
    "Buat program yang meminta input usia dan kategori film, lalu tentukan apakah seseorang boleh menonton film tersebut atau tidak."
   ]
  },
  {
   "cell_type": "code",
   "execution_count": 3,
   "id": "2c00f464-3390-4c94-9ec2-4b63c55b871b",
   "metadata": {
    "id": "2c00f464-3390-4c94-9ec2-4b63c55b871b"
   },
   "outputs": [
    {
     "name": "stdin",
     "output_type": "stream",
     "text": [
      "Masukam Usia Anda : 11\n",
      "Masukan Kategori film anda dewaasa\n"
     ]
    },
    {
     "name": "stdout",
     "output_type": "stream",
     "text": [
      "Mohon Maaf anda tidak boleh menonton film tersebut\n"
     ]
    }
   ],
   "source": [
    "usia = int(input(\"Masukam Usia Anda :\"))\n",
    "kategori_film = input(\"Masukan Kategori film anda\")\n",
    "\n",
    "def boleh_ditonton(usia, kategori_film):\n",
    "    if kategori_film.lower() == \"semua umur\":\n",
    "        return True\n",
    "    elif kategori_film.lower() == \"Remaja\":\n",
    "        return usia >= 13\n",
    "    elif kategori_film.lower() == \"Dewasa\":\n",
    "        return usia >= 18\n",
    "    else:\n",
    "        return False\n",
    "\n",
    "if boleh_ditonton(usia, kategori_film):\n",
    "    print(\"Selamat anda Boleh MEnonton Film Tersebut\")\n",
    "else:\n",
    "    print(\"Mohon Maaf anda tidak boleh menonton film tersebut\")"
   ]
  },
  {
   "cell_type": "markdown",
   "id": "7b87c04c-85f0-4dc1-a14a-f67d8b2c4e6a",
   "metadata": {
    "id": "7b87c04c-85f0-4dc1-a14a-f67d8b2c4e6a"
   },
   "source": [
    "Sebuah toko memberikan diskon berdasarkan jumlah pembelian:\n",
    "<ol>\n",
    "<li>Jika total belanja ≥ Rp 500.000 → Diskon 20%</li>\n",
    "<li>Jika total belanja ≥ Rp 250.000 → Diskon 10%</li>\n",
    "<li>Jika total belanja < Rp 250.000 → Tidak ada diskon</li>\n",
    "</ol>\n",
    "Hitung harga akhir setelah diskon."
   ]
  },
  {
   "cell_type": "code",
   "execution_count": 5,
   "id": "966923a0-c87b-4559-8fc1-3090d448ad4a",
   "metadata": {
    "id": "966923a0-c87b-4559-8fc1-3090d448ad4a"
   },
   "outputs": [
    {
     "name": "stdin",
     "output_type": "stream",
     "text": [
      "Masukkan total belanja Anda (dalam Rp):  20000\n"
     ]
    },
    {
     "name": "stdout",
     "output_type": "stream",
     "text": [
      "Total belanja: Rp 20000.00\n",
      "Diskon: Rp 0.00\n",
      "Harga akhir setelah diskon: Rp 20000.00\n"
     ]
    }
   ],
   "source": [
    "total_belanja = float(input(\"Masukkan total belanja Anda (dalam Rp): \"))\n",
    "\n",
    "def hitung_harga_akhir(total_belanja):\n",
    "    if total_belanja >= 500000:\n",
    "        diskon = 0.20 \n",
    "    elif total_belanja >= 250000:\n",
    "        diskon = 0.10  \n",
    "    else:\n",
    "        diskon = 0.0   \n",
    "\n",
    "    total_diskon = total_belanja * diskon\n",
    "    harga_akhir = total_belanja - total_diskon\n",
    "    return harga_akhir, total_diskon\n",
    "\n",
    "harga_akhir, total_diskon = hitung_harga_akhir(total_belanja)\n",
    "\n",
    "print(f\"Total belanja: Rp {total_belanja:.2f}\")\n",
    "print(f\"Diskon: Rp {total_diskon:.2f}\")\n",
    "print(f\"Harga akhir setelah diskon: Rp {harga_akhir:.2f}\")"
   ]
  },
  {
   "cell_type": "markdown",
   "id": "88e22629-48cc-4917-86e7-2bf4df863182",
   "metadata": {
    "id": "88e22629-48cc-4917-86e7-2bf4df863182"
   },
   "source": [
    "Program parkir:\n",
    "<ol>\n",
    "<li>Mobil: Rp 5.000 per jam</li>\n",
    "<li>Motor: Rp 2.000 per jam</li>\n",
    "<li>Jika parkir lebih dari 5 jam, ada biaya tambahan Rp 10.000</li>\n",
    "</ol>\n",
    "Hitung total biaya parkir berdasarkan jenis kendaraan dan durasi parkir."
   ]
  },
  {
   "cell_type": "code",
   "execution_count": 21,
   "id": "b8f7b918-70a1-4a88-945f-406c4aafbec7",
   "metadata": {
    "id": "b8f7b918-70a1-4a88-945f-406c4aafbec7"
   },
   "outputs": [
    {
     "name": "stdin",
     "output_type": "stream",
     "text": [
      "Masukan Jenis Kendaraan Anda:  motor\n",
      "Masukan Lama Parkir:  9\n"
     ]
    },
    {
     "name": "stdout",
     "output_type": "stream",
     "text": [
      "Total Biaya parkir untuk anda (motor) selama 9.0 jam adalah Rp 28000.0\n"
     ]
    }
   ],
   "source": [
    "jenis_kendaraan = input(\"Masukan Jenis Kendaraan Anda: \")\n",
    "lama_parkir = float(input(\"Masukan Lama Parkir: \"))\n",
    "\n",
    "def hitung_biaya(jenis_kendaraan, lama_parkir):\n",
    "    if jenis_kendaraan.lower() == \"mobil\":\n",
    "        biaya_perjam = 5000\n",
    "    elif jenis_kendaraan.lower() == \"motor\":\n",
    "        biaya_perjam = 2000\n",
    "    else:\n",
    "        return 0\n",
    "\n",
    "    total_bayar = biaya_perjam * lama_parkir\n",
    "\n",
    "    if lama_parkir > 5:\n",
    "        total_bayar += 10000\n",
    "\n",
    "    return total_bayar\n",
    "\n",
    "total_biaya = hitung_biaya(jenis_kendaraan, lama_parkir)\n",
    "if total_biaya == 0:\n",
    "    print(\"Jenis Kendaraan tidak valid\")\n",
    "else:\n",
    "    print(f\"Total Biaya parkir untuk anda ({jenis_kendaraan}) selama {lama_parkir} jam adalah Rp {total_biaya}\")\n"
   ]
  },
  {
   "cell_type": "markdown",
   "id": "2db1d34c-3f80-4f8c-aaf2-910c38c05414",
   "metadata": {
    "id": "2db1d34c-3f80-4f8c-aaf2-910c38c05414"
   },
   "source": [
    "Aplikasi transportasi online memiliki tarif sebagai berikut:\n",
    "<ol>\n",
    "<li>Jika jarak ≤ 5 km → Rp 5.000/km</li>\n",
    "<li>Jika jarak 6-10 km → Rp 4.000/km</li>\n",
    "<li>Jika jarak > 10 km → Rp 3.000/km</li>\n",
    "</ol>\n",
    "Hitung tarif perjalanan berdasarkan jarak yang dimasukkan pengguna.\n"
   ]
  },
  {
   "cell_type": "code",
   "execution_count": 29,
   "id": "5a5b719e-76f6-4f45-a8e4-07853113ce9e",
   "metadata": {
    "id": "5a5b719e-76f6-4f45-a8e4-07853113ce9e"
   },
   "outputs": [
    {
     "name": "stdin",
     "output_type": "stream",
     "text": [
      "Masukan Jarak Tempuh Perjalanan :  99\n"
     ]
    },
    {
     "name": "stdout",
     "output_type": "stream",
     "text": [
      "Tarif Perjalanan Untuk Jarak 99.0 KM adalah RP 297000.00\n"
     ]
    }
   ],
   "source": [
    "jarak = float(input(\"Masukan Jarak Tempuh Perjalanan : \"))\n",
    "\n",
    "def hitung_tarif(jarak):\n",
    "    if jarak <= 5:\n",
    "        tarif = jarak * 5000\n",
    "    elif 6 <= jarak <= 10:\n",
    "        tarif = jarak * 4000\n",
    "    else:\n",
    "        tarif = jarak * 3000\n",
    "    return tarif\n",
    "\n",
    "tarif_perjalanan = hitung_tarif(jarak)\n",
    "print(f\"Tarif Perjalanan Untuk Jarak {jarak} KM adalah RP {tarif_perjalanan:.2f}\")\n"
   ]
  },
  {
   "cell_type": "markdown",
   "id": "d1cf7b61-e309-40ec-b1fd-4bc56550a10d",
   "metadata": {
    "id": "d1cf7b61-e309-40ec-b1fd-4bc56550a10d"
   },
   "source": [
    "Buatlah sebuah sistem penerimaan calon programmer yang akan menerima dua nilai ( nilai coding dan nilai interview). Untuk penilaian test coding skala penilaian yang diberikan dimulai dari 0 hingga 100 dengan sistem penilaian:\n",
    "<ol>\n",
    "<li>ketika seseorang mendapatkan nilai lebih dari 80 maka peserta tersebut akan mendapatkan hasil tes LOLOS</li>\n",
    "<li>ketika sesorang mendapatkan nilai diantara 60 hingga 80 maka peserta tersebut mendapatkan hasil tes DIPERTIMBANGKAN</li>\n",
    "<li>ketika seseorang mendapatkan nilai dibawah 60 maka peserta tersebut mendapatkan hasil tes GAGAL.</li>\n",
    "</ol>\n",
    "\n",
    "Sedangkan untuk penilaian interview adalah\n",
    "<ol>\n",
    "<li>ketika nilai yang diberikan kepada seseorang tersebut adalah \"A\" atau \"B\" maka peserta tersebut dianggap LOLOS interview</li>\n",
    "\n",
    "<li>selain kedua nilai tersebut maka peserta dianggap GAGAL tes interview.</li>\n",
    "</ol>\n",
    "\n",
    "Ketika calon programmer mendapatkan nilai coding LOLOS atau DIPERTIMBANGKAN dan juga LOLOS test interview maka tampilkanlah pesan \"Selamat Kamu Berhasil Menjadi Calon Programmer\". Jika tidak maka tampilkanlah pesan \"Maaf Kamu Belum Berhasil Menjadi Calon Programmer\""
   ]
  },
  {
   "cell_type": "code",
   "execution_count": 39,
   "id": "7aeb0f89-e957-4c0d-a29c-139fc269e1c0",
   "metadata": {
    "id": "7aeb0f89-e957-4c0d-a29c-139fc269e1c0"
   },
   "outputs": [
    {
     "name": "stdin",
     "output_type": "stream",
     "text": [
      "Masukan NIlai coding : 99\n",
      "Masukan NIlai Interview :  b\n"
     ]
    },
    {
     "name": "stdout",
     "output_type": "stream",
     "text": [
      "Selamat KAmu Berhasil Menjadi Calos Programmer\n"
     ]
    }
   ],
   "source": [
    "nilai_coding = float(input(\"Masukan NIlai coding :\"))\n",
    "nilai_interview = input(\"Masukan NIlai Interview : \").upper()\n",
    "\n",
    "def penilaian_coding(nilai_coding):\n",
    "    if nilai_coding > 80:\n",
    "        return \"LOLOS\"\n",
    "    elif 60 <= nilai_coding <= 80:\n",
    "        return \"DIPERTIMBANGKAN\"\n",
    "    else:\n",
    "        return \"GAGAL\"\n",
    "\n",
    "def penilaian_interview(nilai_interview):\n",
    "    if nilai_interview in [\"A\",\"B\"]:\n",
    "        return \"LOLOS\"\n",
    "    else:\n",
    "        return \"GAGAL\"\n",
    "\n",
    "hasil_coding = penilaian_coding(nilai_coding)\n",
    "hasil_interview = penilaian_interview(nilai_interview)\n",
    "\n",
    "if (hasil_coding == \"LOLOS\" or hasil_coding == \"DIPERTIMBANGKAN\" ) and hasil_interview == \"LOLOS\":\n",
    "    print(\"Selamat KAmu Berhasil Menjadi Calos Programmer\")\n",
    "else:\n",
    "    print(\"Maaf Kamu Belum Berhasil Menjadi Calon Programmer\")\n"
   ]
  },
  {
   "cell_type": "markdown",
   "id": "364647af-075b-4bc0-8c83-4c816415ff74",
   "metadata": {
    "id": "364647af-075b-4bc0-8c83-4c816415ff74"
   },
   "source": [
    "Sebuah klub sepak bola “PERSEGI FC” mempunyai aturan dalam memberikan nomor punggung bagi para pemainnya. Para pemain diperbolehkan mempunyai posisi lebih dari 1. Berikut adalah beberapa\n",
    "aturannya:\n",
    "<ol>\n",
    "<li>Untuk nomor punggung genap, digunakan untuk posisi “target attacker”</li>\n",
    "<li>Untuk nomor punggung genap antara 50 – 100, digunakan untuk pemain yang “berhak dipilih menjadi capten team”</li>\n",
    "<li>Untuk nomor punggung ganjil, digunakan untuk posisi “defender”</li>\n",
    "<li>Untuk nomor punggung ganjil lebih dari 90, digunakan untuk posisi “Playmaker”</li>\n",
    "<li>Untuk nomor punggung ganjil kelipatan dari 3 dan 5, digunakan untuk posisi “keeper”</li>\n",
    "</ol>\n",
    "Buatlah program untuk melakukan pengecekan sebuah nomor punggung dapat berfungsi sebagai posisi apa saja."
   ]
  },
  {
   "cell_type": "code",
   "execution_count": 47,
   "id": "2d1d5589-126b-44e3-9d9e-1bed865ff65c",
   "metadata": {
    "id": "2d1d5589-126b-44e3-9d9e-1bed865ff65c"
   },
   "outputs": [
    {
     "name": "stdin",
     "output_type": "stream",
     "text": [
      "Masukan Nomor Punggung :  88\n"
     ]
    },
    {
     "name": "stdout",
     "output_type": "stream",
     "text": [
      "Nomor punggung  88 Tidak Memenuh Syarat untuk posisi apapun\n"
     ]
    }
   ],
   "source": [
    "nomor_punggung = int(input(\"Masukan Nomor Punggung : \"))\n",
    "\n",
    "def menentukan_posisi(nomor_punggung):\n",
    "    posisi = []\n",
    "\n",
    "    if nomor_punggung % 2 == 0:\n",
    "        posisi.append(\"target attacker\")\n",
    "        if 50 <= nomor_punggung <= 100:\n",
    "            posisi.append(\"Berhak Dipilih Menjadi Capten Team\")\n",
    "\n",
    "    if nomor_punggung % 2 != 0:\n",
    "        posisi.append(\"Defender\")\n",
    "        if nomor_punggung > 90:\n",
    "            posisi.append(\"Playmaker\")\n",
    "        if nomor_punggung % 3 == 0 and nomor_punggung % 5 == 0:\n",
    "            posisi.append(\"Keeper\")\n",
    "        return posisi\n",
    "\n",
    "hasil_posisi = menentukan_posisi(nomor_punggung)\n",
    "\n",
    "if hasil_posisi:\n",
    "    print(\"Nomor Punggung :\", nomor_punggung, \"dapat berfungsi sebagai posisi :\")\n",
    "    for p in hasil_posisi:\n",
    "        print(\" \", p)\n",
    "else :\n",
    "    print(\"Nomor punggung \", nomor_punggung, \"Tidak Memenuh Syarat untuk posisi apapun\")"
   ]
  }
 ],
 "metadata": {
  "colab": {
   "provenance": []
  },
  "kernelspec": {
   "display_name": "Python [conda env:base] *",
   "language": "python",
   "name": "conda-base-py"
  },
  "language_info": {
   "codemirror_mode": {
    "name": "ipython",
    "version": 3
   },
   "file_extension": ".py",
   "mimetype": "text/x-python",
   "name": "python",
   "nbconvert_exporter": "python",
   "pygments_lexer": "ipython3",
   "version": "3.12.7"
  }
 },
 "nbformat": 4,
 "nbformat_minor": 5
}
