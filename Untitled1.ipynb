{
 "cells": [
  {
   "cell_type": "code",
   "execution_count": 19,
   "id": "a5f9e3b4-a675-453b-8dfb-29d87a6d4711",
   "metadata": {},
   "outputs": [
    {
     "name": "stdin",
     "output_type": "stream",
     "text": [
      "Isikan Kalimat: UNIVERSITAS NUSA PUTRA\n"
     ]
    },
    {
     "name": "stdout",
     "output_type": "stream",
     "text": [
      "a. putra nusa\n"
     ]
    },
    {
     "ename": "IndexError",
     "evalue": "string index out of range",
     "output_type": "error",
     "traceback": [
      "\u001b[1;31m---------------------------------------------------------------------------\u001b[0m",
      "\u001b[1;31mIndexError\u001b[0m                                Traceback (most recent call last)",
      "Cell \u001b[1;32mIn[19], line 8\u001b[0m\n\u001b[0;32m      6\u001b[0m \u001b[38;5;28mprint\u001b[39m(\u001b[38;5;124m\"\u001b[39m\u001b[38;5;124ma.\u001b[39m\u001b[38;5;124m\"\u001b[39m, output_a)\n\u001b[0;32m      7\u001b[0m \u001b[38;5;66;03m# b. NIVERSITAS NSA PTRA SKABMI\u001b[39;00m\n\u001b[1;32m----> 8\u001b[0m output_b \u001b[38;5;241m=\u001b[39m \u001b[38;5;124m\"\u001b[39m\u001b[38;5;132;01m{}\u001b[39;00m\u001b[38;5;124m \u001b[39m\u001b[38;5;132;01m{}\u001b[39;00m\u001b[38;5;124m \u001b[39m\u001b[38;5;132;01m{}\u001b[39;00m\u001b[38;5;124m \u001b[39m\u001b[38;5;132;01m{}\u001b[39;00m\u001b[38;5;124m \u001b[39m\u001b[38;5;132;01m{}\u001b[39;00m\u001b[38;5;124m \u001b[39m\u001b[38;5;132;01m{}\u001b[39;00m\u001b[38;5;124m \u001b[39m\u001b[38;5;132;01m{}\u001b[39;00m\u001b[38;5;124m\"\u001b[39m\u001b[38;5;241m.\u001b[39mformat(teks[\u001b[38;5;241m1\u001b[39m:\u001b[38;5;241m11\u001b[39m], teks[\u001b[38;5;241m12\u001b[39m],teks[\u001b[38;5;241m14\u001b[39m:\u001b[38;5;241m16\u001b[39m], teks[\u001b[38;5;241m17\u001b[39m],teks[\u001b[38;5;241m19\u001b[39m:\u001b[38;5;241m22\u001b[39m], teks[\u001b[38;5;241m23\u001b[39m],teks[\u001b[38;5;241m25\u001b[39m:\u001b[38;5;241m29\u001b[39m])\n\u001b[0;32m      9\u001b[0m \u001b[38;5;28mprint\u001b[39m(\u001b[38;5;124m\"\u001b[39m\u001b[38;5;124mb.\u001b[39m\u001b[38;5;124m\"\u001b[39m, output_b)\n\u001b[0;32m     10\u001b[0m \u001b[38;5;66;03m# c. SUKABUMI PUTRA NUSA UNIVERSITAS\u001b[39;00m\n",
      "\u001b[1;31mIndexError\u001b[0m: string index out of range"
     ]
    }
   ],
   "source": [
    "teks = input(\"Isikan Kalimat:\")\n",
    "kata = teks.split()\n",
    "\n",
    "# a. putra nusa\n",
    "output_a = \"{} {}\".format(kata[2].lower(), kata[1].lower())\n",
    "print(\"a.\", output_a)\n",
    "# b. NIVERSITAS NSA PTRA SKABMI\n",
    "output_b = \"{} {} {} {} {} {} {}\".format(teks[1:11], teks[12],teks[14:16], teks[17],teks[19:22], teks[23],teks[25:29])\n",
    "print(\"b.\", output_b)\n",
    "# c. SUKABUMI PUTRA NUSA UNIVERSITAS\n",
    "output_c = \"{} {} {} {}\".format(kata[3], kata[2], kata[1], kata[0])\n",
    "print(\"c.\", output_c)\n",
    "# d. UNPS\n",
    "output_d = \"{}{}{}{}\".format(teks[0], teks[12], teks[17], teks[23])\n",
    "print(\"d.\", output_d)\n",
    "# e. TAS SAPU BUMI\n",
    "output_e = \"{} {} {}\".format(teks[8:11], teks[14:19], teks[27:])\n",
    "print(\"e.\", output_e)"
   ]
  }
 ],
 "metadata": {
  "kernelspec": {
   "display_name": "Python [conda env:base] *",
   "language": "python",
   "name": "conda-base-py"
  },
  "language_info": {
   "codemirror_mode": {
    "name": "ipython",
    "version": 3
   },
   "file_extension": ".py",
   "mimetype": "text/x-python",
   "name": "python",
   "nbconvert_exporter": "python",
   "pygments_lexer": "ipython3",
   "version": "3.12.7"
  }
 },
 "nbformat": 4,
 "nbformat_minor": 5
}
